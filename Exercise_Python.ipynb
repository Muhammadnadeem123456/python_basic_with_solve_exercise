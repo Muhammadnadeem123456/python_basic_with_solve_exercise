{
 "cells": [
  {
   "cell_type": "code",
   "execution_count": 1,
   "id": "56469b05-d545-4823-97cf-8264bcc4748c",
   "metadata": {},
   "outputs": [
    {
     "name": "stdout",
     "output_type": "stream",
     "text": [
      "Hi this the era of python\n"
     ]
    }
   ],
   "source": [
    "print(\"Hi this the era of python\")"
   ]
  },
  {
   "cell_type": "markdown",
   "id": "516aac9e-5554-495c-b8a6-3eb39c04dfc4",
   "metadata": {},
   "source": [
    "# 1-Create a variable called break and assign it a value 5. See what happens and find out the reason behind the behavior that you see"
   ]
  },
  {
   "cell_type": "code",
   "execution_count": 10,
   "id": "5fa69354-ad4e-460c-888c-59067d237cd9",
   "metadata": {},
   "outputs": [
    {
     "ename": "SyntaxError",
     "evalue": "invalid syntax (800182598.py, line 1)",
     "output_type": "error",
     "traceback": [
      "\u001b[1;36m  Cell \u001b[1;32mIn[10], line 1\u001b[1;36m\u001b[0m\n\u001b[1;33m    break=5\u001b[0m\n\u001b[1;37m         ^\u001b[0m\n\u001b[1;31mSyntaxError\u001b[0m\u001b[1;31m:\u001b[0m invalid syntax\n"
     ]
    }
   ],
   "source": [
    "break=5"
   ]
  },
  {
   "cell_type": "markdown",
   "id": "998deae0-0aca-4c67-aca8-607c2200f7f8",
   "metadata": {},
   "source": [
    "# 2- Create two variables. One to store your birth year and another one to store current year. Now calculate your age using these two variables"
   ]
  },
  {
   "cell_type": "code",
   "execution_count": 9,
   "id": "848507bd-36e1-4aa8-8372-2cea52115038",
   "metadata": {},
   "outputs": [
    {
     "data": {
      "text/plain": [
       "25"
      ]
     },
     "execution_count": 9,
     "metadata": {},
     "output_type": "execute_result"
    }
   ],
   "source": [
    "from datetime import date\n",
    "byear=1999\n",
    "today=date.today()\n",
    "age=today.year-byear\n",
    "age"
   ]
  },
  {
   "cell_type": "markdown",
   "id": "14a7a031-04c8-44be-bfe3-1f9fcb8d4c15",
   "metadata": {},
   "source": [
    "# 3-Store your first, middle and last name in three different variables and then print your full name using these variables"
   ]
  },
  {
   "cell_type": "code",
   "execution_count": 14,
   "id": "944ee43e-d0b4-41f6-8d72-b1c66840f2a9",
   "metadata": {},
   "outputs": [
    {
     "name": "stdout",
     "output_type": "stream",
     "text": [
      "Name is: muhammad Nadeem Saleem\n"
     ]
    }
   ],
   "source": [
    "fna='muhammad'\n",
    "mna='Nadeem'\n",
    "lna='Saleem'\n",
    "print(\"Name is:\", fna, mna, lna)"
   ]
  },
  {
   "cell_type": "markdown",
   "id": "189850d6-9f30-4b70-bb9c-ab15f6c3eced",
   "metadata": {},
   "source": [
    "# 4-Answer which of these are invalid variable names: _nation 1record record1 record_one record-one record^one continuem"
   ]
  },
  {
   "cell_type": "code",
   "execution_count": null,
   "id": "44b1a798-721c-4d21-b0ca-0789ab09fd77",
   "metadata": {},
   "outputs": [],
   "source": [
    "1record\n",
    "record^one\n",
    "both of above two are invalid."
   ]
  },
  {
   "cell_type": "code",
   "execution_count": 18,
   "id": "dd21a502-3cb4-4088-bce6-32a63f7c4443",
   "metadata": {},
   "outputs": [
    {
     "data": {
      "text/plain": [
       "430650.0"
      ]
     },
     "execution_count": 18,
     "metadata": {},
     "output_type": "execute_result"
    }
   ],
   "source": [
    "# find area of triangle\n",
    "height=990\n",
    "width=870\n",
    "area=(1/2)*height*width\n",
    "area"
   ]
  },
  {
   "cell_type": "code",
   "execution_count": 23,
   "id": "3b032479-c5d9-483f-84e1-a75d48b98dd9",
   "metadata": {},
   "outputs": [
    {
     "data": {
      "text/plain": [
       "9879879.001"
      ]
     },
     "execution_count": 23,
     "metadata": {},
     "output_type": "execute_result"
    }
   ],
   "source": [
    "r=9879879.000909090\n",
    "round(r, 3)"
   ]
  },
  {
   "cell_type": "code",
   "execution_count": 24,
   "id": "c18d126c-1245-400c-8fcc-720633e1f526",
   "metadata": {},
   "outputs": [
    {
     "data": {
      "text/plain": [
       "16"
      ]
     },
     "execution_count": 24,
     "metadata": {},
     "output_type": "execute_result"
    }
   ],
   "source": [
    "10+2*3"
   ]
  },
  {
   "cell_type": "markdown",
   "id": "dbd1a14a-1ae7-4238-9641-1707bf7e2413",
   "metadata": {},
   "source": [
    "# Str"
   ]
  },
  {
   "cell_type": "markdown",
   "id": "58303b3a-7eb8-485c-97a8-482c4a022f27",
   "metadata": {},
   "source": [
    "# 1-You have a football field that is 92 meter long and 48.8 meter wide. Find out total area using python and print it."
   ]
  },
  {
   "cell_type": "code",
   "execution_count": 33,
   "id": "42ba04bf-b1be-452c-a4e1-f7465b4762e9",
   "metadata": {},
   "outputs": [
    {
     "name": "stdout",
     "output_type": "stream",
     "text": [
      "4489.6\n"
     ]
    }
   ],
   "source": [
    "length=92\n",
    "width=48.8\n",
    "area=length*width\n",
    "# area\n",
    "print(round(area,1))"
   ]
  },
  {
   "cell_type": "markdown",
   "id": "e36cccee-c85b-4247-b866-1a9a0e3782fa",
   "metadata": {},
   "source": [
    "# 2-You bought 9 packets of potato chips from a store. Each packet costs 1.49 dollar and you gave shopkeeper 20 dollar. Find out using python, how many dollars is the shopkeeper going to give you back?"
   ]
  },
  {
   "cell_type": "code",
   "execution_count": 36,
   "id": "ab9fe172-3880-4baa-a701-71e3cf870c02",
   "metadata": {},
   "outputs": [
    {
     "name": "stdout",
     "output_type": "stream",
     "text": [
      "give you back is 6.59\n"
     ]
    }
   ],
   "source": [
    "b=9\n",
    "co=1.49\n",
    "pa=20\n",
    "total=b*co\n",
    "price=pa-total\n",
    "print(\"give you back is\", price)"
   ]
  },
  {
   "cell_type": "markdown",
   "id": "a472d2e7-8c64-41a1-95df-ec6b2d2dde19",
   "metadata": {},
   "source": [
    "# 2-You want to replace tiles in your bathroom which is exactly square and 5.5 feet is its length. If tiles cost 500 rs per square feet, how much will be the total cost to replace all tiles. Calculate and print the cost using python (Hint: Use power operator ** to find area of a square)"
   ]
  },
  {
   "cell_type": "code",
   "execution_count": 39,
   "id": "4ea52c43-4881-447d-95d9-7a4ca5c7dd88",
   "metadata": {},
   "outputs": [
    {
     "data": {
      "text/plain": [
       "15125.0"
      ]
     },
     "execution_count": 39,
     "metadata": {},
     "output_type": "execute_result"
    }
   ],
   "source": [
    "s=5.5\n",
    "s=s**2\n",
    "cos=500\n",
    "total_cost=s*cos\n",
    "total_cost"
   ]
  },
  {
   "cell_type": "code",
   "execution_count": 40,
   "id": "f2e8c8bc-1251-4aa6-b4f2-c38c0cd3e013",
   "metadata": {},
   "outputs": [
    {
     "name": "stdout",
     "output_type": "stream",
     "text": [
      "The total cost to replace all tiles is: 15125.0 Rs\n"
     ]
    }
   ],
   "source": [
    "# Length of the bathroom in feet\n",
    "length_of_bathroom = 5.5\n",
    "\n",
    "# Cost per square foot of tile in Rs\n",
    "cost_per_square_foot = 500\n",
    "\n",
    "# Calculating the area of the square bathroom (length ** 2)\n",
    "area_of_bathroom = length_of_bathroom ** 2\n",
    "\n",
    "# Calculating the total cost to replace all tiles\n",
    "total_cost = area_of_bathroom * cost_per_square_foot\n",
    "\n",
    "# Printing the total cost\n",
    "print(\"The total cost to replace all tiles is:\", total_cost, \"Rs\")\n"
   ]
  },
  {
   "cell_type": "markdown",
   "id": "68039bff-de06-4e0d-9a6c-36cc190ab97b",
   "metadata": {},
   "source": [
    "# String"
   ]
  },
  {
   "cell_type": "markdown",
   "id": "6cd1b756-e868-4c7b-925c-f7373b924f02",
   "metadata": {},
   "source": [
    "# 1-Create 3 variables to store street, city and country, now create address variable to store entire address. Use two ways of creating this variable, one using + operator and the other using f-string. Now Print the address in such a way that the street, city and country prints in a separate line"
   ]
  },
  {
   "cell_type": "code",
   "execution_count": 57,
   "id": "23240b39-25f8-4875-9f30-b9d0bc283197",
   "metadata": {},
   "outputs": [
    {
     "name": "stdout",
     "output_type": "stream",
     "text": [
      "lahore\n",
      "pakistan\n",
      "firdus, H-10, Lahore\n"
     ]
    }
   ],
   "source": [
    "city=\"lahore\"\n",
    "Country=\"pakistan\"\n",
    "address=\"firdus, H-10, Lahore\"\n",
    "print(city+\"\\n\"+Country+\"\\n\"+address)"
   ]
  },
  {
   "cell_type": "code",
   "execution_count": 58,
   "id": "fbee5d5e-52c8-4222-a482-9134e52fdc7f",
   "metadata": {},
   "outputs": [
    {
     "name": "stdout",
     "output_type": "stream",
     "text": [
      "Your Address is: lahore\n",
      "pakistan\n",
      "firdus, H-10, Lahore\n"
     ]
    }
   ],
   "source": [
    "city=\"lahore\"\n",
    "Country=\"pakistan\"\n",
    "address=\"firdus, H-10, Lahore\"\n",
    "va=f\"{city}\\n{Country}\\n{address}\"\n",
    "print(f\"Your Address is:\", va)"
   ]
  },
  {
   "cell_type": "markdown",
   "id": "5afb629c-8ab0-4982-889e-55ca202cac81",
   "metadata": {},
   "source": [
    "# 2-Create a variable to store the string \"Earth revolves around the sun\"\n",
    "# Print \"revolves\" using slice operator\n",
    "# Print \"sun\" using negative index"
   ]
  },
  {
   "cell_type": "code",
   "execution_count": 75,
   "id": "cbba3c40-fd92-4f12-a148-a5848acf9e69",
   "metadata": {},
   "outputs": [
    {
     "name": "stdout",
     "output_type": "stream",
     "text": [
      "revolves \n",
      "sun\n"
     ]
    }
   ],
   "source": [
    "y=\"Earth revolves around the sun\"\n",
    "print(y[6:15])\n",
    "print(y[-3:])"
   ]
  },
  {
   "cell_type": "markdown",
   "id": "3224f185-9a69-4268-92b1-ad838ab521f7",
   "metadata": {},
   "source": [
    "# 3-Create two variables to store how many fruits and vegetables you eat in a day. Now Print \"I eat x veggies and y fruits daily\" where x and y presents vegetables and fruits that you eat everyday. Use python f string for this."
   ]
  },
  {
   "cell_type": "code",
   "execution_count": 78,
   "id": "860f6975-3c60-4b98-b038-3df5c9ded6e8",
   "metadata": {},
   "outputs": [
    {
     "name": "stdout",
     "output_type": "stream",
     "text": [
      "I eat ('apple', 'mango') fruits and ('cocamber', 'tomato') veggies daiy\n"
     ]
    }
   ],
   "source": [
    "x='apple', 'mango'\n",
    "y='cocamber', 'tomato'\n",
    "print(f\"I eat {x} fruits and {y} veggies daiy\")"
   ]
  },
  {
   "cell_type": "markdown",
   "id": "2a280fa7-a6f0-4b18-884d-47eda49648ac",
   "metadata": {},
   "source": [
    "# 4-I have a string variable called s='maine 200 banana khaye'. This of course is a wrong statement, the correct statement is 'maine 10 samosa khaye'. Replace incorrect words in original strong with new ones and print the new string. Also try to do this in one line."
   ]
  },
  {
   "cell_type": "code",
   "execution_count": 85,
   "id": "c8d7f5f5-c9c4-4b69-9cc6-146c33376aa9",
   "metadata": {},
   "outputs": [
    {
     "name": "stdout",
     "output_type": "stream",
     "text": [
      "maine 10 banana khaye\n"
     ]
    }
   ],
   "source": [
    "# s='maine 200 banana khaye'\n",
    "print('maine 200 banana khaye'.replace('maine 200', 'maine 10'))"
   ]
  },
  {
   "cell_type": "markdown",
   "id": "bf2e67e2-6c71-49cc-be18-5d9cf8798618",
   "metadata": {},
   "source": [
    "# Input"
   ]
  },
  {
   "cell_type": "code",
   "execution_count": null,
   "id": "b14e268f-f66f-413a-a7a7-bad22a4ee5fd",
   "metadata": {},
   "outputs": [],
   "source": []
  },
  {
   "cell_type": "code",
   "execution_count": 87,
   "id": "c5164dd0-8346-4aeb-a047-8c7244fba9e2",
   "metadata": {},
   "outputs": [
    {
     "name": "stdin",
     "output_type": "stream",
     "text": [
      "enter first no 3\n",
      "enter second no 4\n"
     ]
    },
    {
     "name": "stdout",
     "output_type": "stream",
     "text": [
      "<class 'str'>\n"
     ]
    }
   ],
   "source": [
    "n1=input(\"enter first no\")\n",
    "n2=input(\"enter second no\")\n",
    "print(type(n1+n2))"
   ]
  },
  {
   "cell_type": "markdown",
   "id": "dda4162b-9995-4590-9c1c-3a51b285870f",
   "metadata": {},
   "source": [
    "# 1-Write a program that can find area of a triangle. It should take base and height as an input from user and using that it should print an area of a triangle"
   ]
  },
  {
   "cell_type": "code",
   "execution_count": 94,
   "id": "9a82e3ed-7e6a-45f9-a94b-6e148b45ff85",
   "metadata": {},
   "outputs": [
    {
     "name": "stdin",
     "output_type": "stream",
     "text": [
      "Enter Height 3\n",
      "Enter Base 4\n"
     ]
    },
    {
     "name": "stdout",
     "output_type": "stream",
     "text": [
      "Area of Triangle: 6.0\n"
     ]
    }
   ],
   "source": [
    "height=float(input(\"Enter Height\"))\n",
    "base=float(input(\"Enter Base\"))\n",
    "area= (1/2)*height*base\n",
    "print(\"Area of Triangle:\",area)"
   ]
  },
  {
   "cell_type": "markdown",
   "id": "8e3b14b1-ebaa-4c11-8cc2-85077a59af64",
   "metadata": {},
   "source": [
    "# 2-Write a program that takes file name with extension as an input and prints just the file name without extension (you can assume that file extensions are always 3 character long)"
   ]
  },
  {
   "cell_type": "code",
   "execution_count": 97,
   "id": "e1ac2ebd-fb8f-4a85-b085-abd04cbd7a54",
   "metadata": {},
   "outputs": [
    {
     "name": "stdin",
     "output_type": "stream",
     "text": [
      "enter file name with it's extention haider_hyndai.txt\n"
     ]
    },
    {
     "name": "stdout",
     "output_type": "stream",
     "text": [
      "haider_hyndai.\n"
     ]
    }
   ],
   "source": [
    "n=input(\"enter file name with it's extention\")\n",
    "print(n[:-3])"
   ]
  },
  {
   "cell_type": "markdown",
   "id": "6e15b150-efa4-46fd-9c21-f0e82d387cea",
   "metadata": {},
   "source": [
    "# List"
   ]
  },
  {
   "cell_type": "markdown",
   "id": "7abf97d5-7a5f-46c4-9d79-97b0a4d1ab9d",
   "metadata": {},
   "source": [
    "# 1-Let us say your expense for every month are listed below,\n",
    "# January - 2200\n",
    "# February - 2350\n",
    "# March - 2600\n",
    "# April - 2130\n",
    "# May - 2190\n",
    "# Create a list to store these monthly expenses and using that find out,\n",
    "\n",
    "# 1. In Feb, how many dollars you spent extra compare to January?\n",
    "# 2. Find out your total expense in first quarter (first three months) of the year.\n",
    "# 3. Find out if you spent exactly 2000 dollars in any month\n",
    "# 4. June month just finished and your expense is 1980 dollar. Add this item to our monthly expense list\n",
    "# 5. You returned an item that you bought in a month of April and\n",
    "# got a refund of 200$. Make a correction to your monthly expense list\n",
    "# based on this"
   ]
  },
  {
   "cell_type": "code",
   "execution_count": 108,
   "id": "67483ada-6ff9-4666-88f1-e4d6b3c5d00c",
   "metadata": {},
   "outputs": [
    {
     "name": "stdout",
     "output_type": "stream",
     "text": [
      "Extra expenses in February: -150\n",
      "Find out if you spent exactly 2000 dollars in any month False\n",
      "Frist Quarter Expensee: 7150\n",
      "Expenses List after adding one month Which is: [2200, 2350, 2600, 2130, 2190, 1980]\n",
      "After Refund Values List Will Be [2000, 2350, 2600, 2130, 2190, 1980]\n"
     ]
    }
   ],
   "source": [
    "expenses=[2200, 2350, 2600, 2130, 2190]\n",
    "feb_extra_expenses=expenses[0]-expenses[1]\n",
    "print(\"Extra expenses in February:\", feb_extra_expenses)\n",
    "total_expense_Qusrter=expenses[0]+expenses[1]+expenses[2]\n",
    "print(\"Find out if you spent exactly 2000 dollars in any month\", 2000 in expenses)\n",
    "print(\"Frist Quarter Expensee:\", total_expense_Qusrter)\n",
    "expenses.append(1980)\n",
    "print(\"Expenses List after adding one month Which is:\", expenses)\n",
    "refund_value=200\n",
    "expenses[0]-=refund_value\n",
    "print(\"After Refund Values List Will Be\", expenses)\n"
   ]
  },
  {
   "cell_type": "markdown",
   "id": "85a0079c-ed8c-466d-b334-d7aa00775d2e",
   "metadata": {},
   "source": [
    "# 2. You have a list of your favourite marvel super heros\n",
    "# # heros=['spider man','thor','hulk','iron man','captain america']\n",
    "# # Using this list\n",
    "# 1. Length of the list\n",
    "# 2. Add 'black panther' at the end of this list\n",
    "# 3. You realize that you need to add 'black panther' after 'hulk',\n",
    "# so remove it from the list first and then add it after 'hulk'\n",
    " <!-- <Now you don't like thor and hulk because they get angry easily :) --> -->\n",
    "#    So you want to remove thor and hulk from list and replace them with doctor strange (because he is cool).\n",
    "#    Do that with one line of code.\n",
    "# 5. Sort the list in alphabetical order"
   ]
  },
  {
   "cell_type": "code",
   "execution_count": 122,
   "id": "e416086a-8292-4e06-a1e7-054b56685d29",
   "metadata": {},
   "outputs": [
    {
     "name": "stdout",
     "output_type": "stream",
     "text": [
      "5\n"
     ]
    }
   ],
   "source": [
    "heros=['spider man','thor','hulk','iron man','captain america']\n",
    "print(len(heros))"
   ]
  },
  {
   "cell_type": "code",
   "execution_count": 129,
   "id": "0a123a8e-0afd-4567-b1b1-2e39db877621",
   "metadata": {},
   "outputs": [
    {
     "name": "stdout",
     "output_type": "stream",
     "text": [
      "['spider man', 'thor', 'hulk', 'iron man', 'captain america', 'black panther']\n"
     ]
    }
   ],
   "source": [
    "heros.append('black panther')\n",
    "print(heros)"
   ]
  },
  {
   "cell_type": "code",
   "execution_count": null,
   "id": "cafb0028-c38b-410f-b7c0-e3116bc84f80",
   "metadata": {},
   "outputs": [],
   "source": []
  },
  {
   "cell_type": "code",
   "execution_count": 131,
   "id": "0bac65c9-49eb-4647-8978-bb6fe60c5ae9",
   "metadata": {},
   "outputs": [
    {
     "name": "stdout",
     "output_type": "stream",
     "text": [
      "['spider man', 'thor', 'hulk', 'iron man', 'captain america']\n"
     ]
    }
   ],
   "source": [
    "# heros.remove('black panther')\n",
    "heros.pop(5)\n",
    "print(heros)"
   ]
  },
  {
   "cell_type": "code",
   "execution_count": 133,
   "id": "00d589b8-19d6-44c0-a07c-56df1b597c8b",
   "metadata": {},
   "outputs": [
    {
     "name": "stdout",
     "output_type": "stream",
     "text": [
      "['spider man', 'thor', 'hulk', 'black panther', 'black panther', 'iron man', 'captain america']\n"
     ]
    }
   ],
   "source": [
    "heros.insert(3, 'black panther')\n",
    "print(heros)"
   ]
  },
  {
   "cell_type": "code",
   "execution_count": 137,
   "id": "8237996d-2a10-4552-beda-4e344b699aa0",
   "metadata": {},
   "outputs": [
    {
     "name": "stdout",
     "output_type": "stream",
     "text": [
      "['spider man', 'doctor strange', 'c', 't', 'o', 'r', ' ', 's', 't', 'r', 'a', 'n', 'g', 'e', 'c', 't', 'o', 'r', ' ', 's', 't', 'r', 'a', 'n', 'g', 'e', 'o', 'c', 't', 'o', 'r', ' ', 's', 't', 'r', 'a', 'n', 'g', 'e', 'hulk', 'black panther', 'black panther', 'iron man', 'captain america']\n"
     ]
    }
   ],
   "source": [
    "heros[1:3]=['doctor strange']\n",
    "print(heros)"
   ]
  },
  {
   "cell_type": "code",
   "execution_count": 139,
   "id": "9d6bc814-925f-4bf1-a228-325b4578911c",
   "metadata": {},
   "outputs": [
    {
     "name": "stdout",
     "output_type": "stream",
     "text": [
      "[' ', ' ', ' ', 'a', 'a', 'a', 'black panther', 'black panther', 'c', 'c', 'c', 'captain america', 'doctor strange', 'e', 'e', 'e', 'g', 'g', 'g', 'hulk', 'iron man', 'n', 'n', 'n', 'o', 'o', 'o', 'o', 'r', 'r', 'r', 'r', 'r', 'r', 's', 's', 's', 'spider man', 't', 't', 't', 't', 't', 't']\n"
     ]
    }
   ],
   "source": [
    "heros.sort()\n",
    "print(heros)"
   ]
  },
  {
   "cell_type": "code",
   "execution_count": 140,
   "id": "5e94b40d-6bc2-4638-9fd6-25e935591f72",
   "metadata": {},
   "outputs": [
    {
     "name": "stdout",
     "output_type": "stream",
     "text": [
      "['t', 't', 't', 't', 't', 't', 'spider man', 's', 's', 's', 'r', 'r', 'r', 'r', 'r', 'r', 'o', 'o', 'o', 'o', 'n', 'n', 'n', 'iron man', 'hulk', 'g', 'g', 'g', 'e', 'e', 'e', 'doctor strange', 'captain america', 'c', 'c', 'c', 'black panther', 'black panther', 'a', 'a', 'a', ' ', ' ', ' ']\n"
     ]
    }
   ],
   "source": [
    "heros.sort(reverse=True)\n",
    "print(heros)"
   ]
  },
  {
   "cell_type": "markdown",
   "id": "de5034d3-f8d3-4b68-98dd-5fece29ace33",
   "metadata": {},
   "source": [
    "# If Condition"
   ]
  },
  {
   "cell_type": "code",
   "execution_count": 144,
   "id": "8966b158-3cef-45c8-97e3-f4de6ff44f6a",
   "metadata": {},
   "outputs": [
    {
     "name": "stdin",
     "output_type": "stream",
     "text": [
      "Enter a No: 7\n"
     ]
    },
    {
     "name": "stdout",
     "output_type": "stream",
     "text": [
      "No is odd\n"
     ]
    }
   ],
   "source": [
    "# handling if-else using ternery operators.......\n",
    "no=int(input(\"Enter a No:\"))\n",
    "message=\"No is even\" if no%2==0 else \"No is odd\"\n",
    "print(message)"
   ]
  },
  {
   "cell_type": "code",
   "execution_count": 4,
   "id": "842de74d-ac84-4722-81c2-28ad05ca5114",
   "metadata": {},
   "outputs": [
    {
     "name": "stdin",
     "output_type": "stream",
     "text": [
      "Enter a No: 5\n"
     ]
    },
    {
     "name": "stdout",
     "output_type": "stream",
     "text": [
      "no is odd\n"
     ]
    }
   ],
   "source": [
    "no=int(input(\"Enter a No:\"))\n",
    "if no % 2 == 0:\n",
    "    print(\"no is even\")\n",
    "else:\n",
    "    print(\"no is odd\")"
   ]
  },
  {
   "cell_type": "markdown",
   "id": "896bbc06-8339-4130-853b-059041fdef5e",
   "metadata": {},
   "source": [
    "# Using following list of cities per country,\n",
    "# india = [\"mumbai\", \"banglore\", \"chennai\", \"delhi\"]\n",
    "# pakistan = [\"lahore\",\"karachi\",\"islamabad\"]\n",
    "# bangladesh = [\"dhaka\", \"khulna\", \"rangpur\"]\n",
    "# i-Write a program that asks user to enter a city name and it should tell which country the city belongs to\n",
    "# ii-Write a program that asks user to enter two cities and it tells you if they both are in same country or not. For example if I enter mumbai and chennai, it will print \"Both cities are in India\" but if I enter mumbai and dhaka it should print \"They don't belong to same country\""
   ]
  },
  {
   "cell_type": "code",
   "execution_count": 152,
   "id": "f9eb7116-4572-44ff-97d1-994fb698f0a5",
   "metadata": {},
   "outputs": [
    {
     "name": "stdin",
     "output_type": "stream",
     "text": [
      "Enter City Na banglore\n"
     ]
    },
    {
     "name": "stdout",
     "output_type": "stream",
     "text": [
      "banglore City Belongs To India\n"
     ]
    }
   ],
   "source": [
    "# 1-i\n",
    "india = [\"mumbai\", \"banglore\", \"chennai\", \"delhi\"]\n",
    "pakistan = [\"lahore\",\"karachi\",\"islamabad\"]\n",
    "bangladesh = [\"dhaka\", \"khulna\", \"rangpur\"]\n",
    "city=input(\"Enter City Na\")\n",
    "if city in india:\n",
    "    print(f\"{city} City Belongs To India\")\n",
    "elif city in pakistan:\n",
    "    print(f\"{city} City Belongs to Pakistan\")\n",
    "elif city in bangladesh:\n",
    "    print(f\"{city} City Belongs to bangladesh\")\n",
    "else:\n",
    "    print(f\"{city} Not Belongs to listed Country\")"
   ]
  },
  {
   "cell_type": "code",
   "execution_count": 166,
   "id": "49ac78cb-ec29-4c07-a86d-24dfac4ab542",
   "metadata": {},
   "outputs": [
    {
     "name": "stdin",
     "output_type": "stream",
     "text": [
      "Enter City Name 1:  lahore\n",
      "Enter City Name 2:  rangpur\n"
     ]
    },
    {
     "name": "stdout",
     "output_type": "stream",
     "text": [
      "Lahore and Rangpur do not belong to the listed countries.\n"
     ]
    }
   ],
   "source": [
    "india = [\"mumbai\", \"bangalore\", \"chennai\", \"delhi\"]\n",
    "pakistan = [\"lahore\", \"karachi\", \"islamabad\"]\n",
    "bangladesh = [\"dhaka\", \"khulna\", \"rangpur\"]\n",
    "\n",
    "# Take inputs for two cities\n",
    "city_1 = input(\"Enter City Name 1: \").lower()\n",
    "city_2 = input(\"Enter City Name 2: \").lower()\n",
    "\n",
    "# Check if both cities are in the same country\n",
    "if city_1 in india and city_2 in india:\n",
    "    print(f\"{city_1.capitalize()} and {city_2.capitalize()} are cities in India.\")\n",
    "elif city_1 in pakistan and city_2 in pakistan:\n",
    "    print(f\"{city_1.capitalize()} and {city_2.capitalize()} are cities in Pakistan.\")\n",
    "elif city_1 in bangladesh and city_2 in bangladesh:\n",
    "    print(f\"{city_1.capitalize()} and {city_2.capitalize()} are cities in Bangladesh.\")\n",
    "else:\n",
    "    print(f\"{city_1.capitalize()} and {city_2.capitalize()} do not belong to the listed countries.\")\n"
   ]
  },
  {
   "cell_type": "markdown",
   "id": "036bbeb2-9a62-477c-aff7-63b82dd1084e",
   "metadata": {},
   "source": [
    "# 2-Write a python program that can tell you if your sugar is normal or not. Normal fasting level sugar range is 80 to 100.\n",
    "# Ask user to enter his fasting sugar level\n",
    "# If it is below 80 to 100 range then print that sugar is low\n",
    "# If it is above 100 then print that it is high otherwise print that it is normal"
   ]
  },
  {
   "cell_type": "code",
   "execution_count": null,
   "id": "9743326a-447b-4dc5-8f95-21aa416c0731",
   "metadata": {},
   "outputs": [],
   "source": [
    "f=[80,100]"
   ]
  },
  {
   "cell_type": "code",
   "execution_count": 170,
   "id": "73f5dd56-43f8-4902-a129-7e4dca31fd97",
   "metadata": {},
   "outputs": [
    {
     "name": "stdin",
     "output_type": "stream",
     "text": [
      "Enter Suger no 110\n"
     ]
    },
    {
     "name": "stdout",
     "output_type": "stream",
     "text": [
      "suger is high\n"
     ]
    }
   ],
   "source": [
    "sugg=int(input(\"Enter Suger no\"))\n",
    "if sugg<80:\n",
    "    print(\"suger is low\")\n",
    "elif sugg>100:\n",
    "    print(\"suger is high\")\n",
    "else:\n",
    "    print(\"Your suger is normal\")\n"
   ]
  },
  {
   "cell_type": "markdown",
   "id": "9e1e6505-5e24-4c18-834c-71c0f8dae97b",
   "metadata": {},
   "source": [
    "# Loop"
   ]
  },
  {
   "cell_type": "markdown",
   "id": "27a969b2-5506-4866-89a4-3fec4db8e774",
   "metadata": {},
   "source": [
    "# After flipping a coin 10 times you got this result,\n",
    "# result = [\"heads\",\"tails\",\"tails\",\"heads\",\"tails\",\"heads\",\"heads\",\"tails\",\"tails\",\"tails\"]\n"
   ]
  },
  {
   "cell_type": "markdown",
   "id": "77acbbb0-68ce-4fa6-aa0e-2dc4e6db3396",
   "metadata": {},
   "source": [
    "\n",
    "# Using for loop figure out how many times you got heads"
   ]
  },
  {
   "cell_type": "code",
   "execution_count": 173,
   "id": "07bdf82e-068c-4025-b29b-f4b13a6c505d",
   "metadata": {},
   "outputs": [
    {
     "name": "stdout",
     "output_type": "stream",
     "text": [
      "No Of heads In List: 4\n"
     ]
    }
   ],
   "source": [
    "result = [\"heads\",\"tails\",\"tails\",\"heads\",\"tails\",\"heads\",\"heads\",\"tails\",\"tails\",\"tails\"]\n",
    "total=0\n",
    "for i in result:\n",
    "    if i == \"heads\":\n",
    "        total=total+1\n",
    "    else:\n",
    "        continue;\n",
    "print(\"No Of heads In List:\", total)"
   ]
  },
  {
   "cell_type": "markdown",
   "id": "f26bb5e5-0fe4-461d-9678-339dbf51eaff",
   "metadata": {},
   "source": [
    "# 2-Print square of all numbers between 1 to 10 except even numbers"
   ]
  },
  {
   "cell_type": "code",
   "execution_count": 177,
   "id": "bb2d0543-fbef-4377-962a-a7a715b78862",
   "metadata": {},
   "outputs": [
    {
     "name": "stdout",
     "output_type": "stream",
     "text": [
      "1\n",
      "4\n",
      "9\n",
      "16\n",
      "25\n",
      "36\n",
      "49\n",
      "64\n",
      "81\n",
      "100\n"
     ]
    }
   ],
   "source": [
    "for i in range(1,11):\n",
    "    print(i**2)"
   ]
  },
  {
   "cell_type": "markdown",
   "id": "6cb66511-b1fb-4712-a671-6fdd6823a602",
   "metadata": {},
   "source": [
    "# 3-Your monthly expense list (from Jan to May) looks like this,\n",
    "# expense_list = [2340, 2500, 2100, 3100, 2980]\n",
    "# Write a program that asks you to enter an expense amount and program should tell you in which month that expense occurred. If expense is not found then it should print that as well."
   ]
  },
  {
   "cell_type": "code",
   "execution_count": 185,
   "id": "f5c69f2a-a42a-43ab-bf77-92d173a00179",
   "metadata": {},
   "outputs": [
    {
     "name": "stdin",
     "output_type": "stream",
     "text": [
      "Enter Your Expense: 1231\n"
     ]
    },
    {
     "name": "stdout",
     "output_type": "stream",
     "text": [
      "you entered expense which is not found in our list\n"
     ]
    }
   ],
   "source": [
    "# -Your monthly expense list (from Jan to May) looks like this,\n",
    "expense_list = [2340, 2500, 2100, 3100, 2980]\n",
    "# Write a program that asks you to enter an expense amount and program should tell you in which month that expense occurred. If expense is not found then it should print that as well.\n",
    "exp=int(input(\"Enter Your Expense:\"))\n",
    "if exp==2340:\n",
    "    print(\"january expense\")\n",
    "elif exp==2500:\n",
    "    print(\"February expense\")\n",
    "elif exp==2100:\n",
    "    print(\"march expense\")\n",
    "elif exp==3100:\n",
    "    print(\"april expense\")\n",
    "elif exp==2980:\n",
    "    print(\"may expense\")\n",
    "else:\n",
    "    print(\"you entered expense which is not found in our list\")"
   ]
  },
  {
   "cell_type": "code",
   "execution_count": 187,
   "id": "b169797c-134d-4672-b8eb-51b3ba66a993",
   "metadata": {},
   "outputs": [
    {
     "name": "stdin",
     "output_type": "stream",
     "text": [
      "Enter the expense amount:  3100\n"
     ]
    },
    {
     "name": "stdout",
     "output_type": "stream",
     "text": [
      "The expense occurred in April.\n"
     ]
    }
   ],
   "source": [
    "# List of monthly expenses (starting from January)\n",
    "expense_list = [2340, 2500, 2100, 3100, 2980]\n",
    "\n",
    "# List of months corresponding to the expenses\n",
    "months = ['January', 'February', 'March', 'April', 'May']\n",
    "\n",
    "# Ask the user to enter the expense amount\n",
    "expense = int(input(\"Enter the expense amount: \"))\n",
    "\n",
    "# Check if the expense is in the expense list\n",
    "if expense in expense_list:\n",
    "    # Find the index of the expense and get the corresponding month\n",
    "    index = expense_list.index(expense)\n",
    "    print(f\"The expense occurred in {months[index]}.\")\n",
    "else:\n",
    "    print(\"Expense not found.\")\n"
   ]
  },
  {
   "cell_type": "markdown",
   "id": "7030f382-bb1a-4433-b17c-3270f3b6fc48",
   "metadata": {},
   "source": [
    "# 5-# 5. Write a program that prints following shape."
   ]
  },
  {
   "cell_type": "code",
   "execution_count": null,
   "id": "2b6be69a-5336-4b12-a4e1-0ab3ddf05d01",
   "metadata": {},
   "outputs": [],
   "source": [
    "```\n",
    "*\n",
    "**\n",
    "***\n",
    "****\n",
    "*****\n",
    "```"
   ]
  },
  {
   "cell_type": "code",
   "execution_count": 197,
   "id": "83c6d159-e367-48fb-897b-a2aec9f9a61e",
   "metadata": {},
   "outputs": [
    {
     "name": "stdout",
     "output_type": "stream",
     "text": [
      "*\n",
      "**\n",
      "***\n",
      "****\n",
      "*****\n"
     ]
    }
   ],
   "source": [
    "for i in range(1, 6):\n",
    "    for u in range(i):\n",
    "        print('*', end='')\n",
    "    print()"
   ]
  },
  {
   "cell_type": "markdown",
   "id": "7bc4fb0b-6595-438d-9125-82adf9af8174",
   "metadata": {},
   "source": [
    "# Function"
   ]
  },
  {
   "cell_type": "markdown",
   "id": "6c7d79be-341f-41ac-afcd-9f260efdda52",
   "metadata": {},
   "source": [
    "# 1-Write a function called calculate_area that takes base and height as an input and returns and area of a triangle. Equation of an area of a triangle is,\n",
    "area = (1/2)*base*height "
   ]
  },
  {
   "cell_type": "code",
   "execution_count": 202,
   "id": "ae7ae7e2-3458-48d6-ab5c-0d8c2e7e9e55",
   "metadata": {},
   "outputs": [
    {
     "name": "stdout",
     "output_type": "stream",
     "text": [
      "the area of triangle: 6.0\n"
     ]
    }
   ],
   "source": [
    "# base=int(input(\"Enter Base\"))\n",
    "# height=int(input(\"Enter Height\"))\n",
    "def calculate_area(base, height):\n",
    "    area=(1/2)*base*height\n",
    "    return area\n",
    "Area=calculate_area(3,4)\n",
    "print(\"the area of triangle:\", Area)"
   ]
  },
  {
   "cell_type": "markdown",
   "id": "1010f933-d286-420d-a73e-b554d4e68591",
   "metadata": {},
   "source": [
    "# Modify above function to take third parameter shape type. It can be either \"triangle\" or \"rectangle\". Based on shape type it will calculate area. Equation of rectangle's area is\n",
    "rectangle area=length*width\n",
    "If no shape is supplied then it should take triangle as a default shape"
   ]
  },
  {
   "cell_type": "code",
   "execution_count": 211,
   "id": "35ea654a-f4a4-4592-be1e-84718e6d0dd3",
   "metadata": {},
   "outputs": [
    {
     "name": "stdin",
     "output_type": "stream",
     "text": [
      "enter length 4\n",
      "enter width 5\n",
      "enter shape dfg\n"
     ]
    },
    {
     "name": "stdout",
     "output_type": "stream",
     "text": [
      "the area of dfg is  10.0\n"
     ]
    }
   ],
   "source": [
    "def calculate_area(length, width, shape):\n",
    "    if shape=='triangle' or 'aAbBcCdDeEfFgGhHiIjJkKlL:\n",
    "        return (1/2)*length*width\n",
    "    elif shape=='rectangle':\n",
    "        return length*width\n",
    "    else:\n",
    "        return (1/2)*length*width\n",
    "    \n",
    "lenght=float(input(\"enter length\"))\n",
    "width=float(input(\"enter width\"))\n",
    "shape=input(\"enter shape\").lower()\n",
    "Area=calculate_area(lenght, width, shape)\n",
    "print(f\"the area of {shape} is \", Area)"
   ]
  },
  {
   "cell_type": "markdown",
   "id": "6126ddfc-e59c-48ee-afcb-9e530d26344f",
   "metadata": {},
   "source": [
    "# 3-Write a function called print_pattern that takes integer number as an argument and prints following pattern if input number is 3,"
   ]
  },
  {
   "cell_type": "code",
   "execution_count": null,
   "id": "093f6fe8-4009-44cd-bca5-78fa02528e58",
   "metadata": {},
   "outputs": [],
   "source": [
    "*\n",
    "**\n",
    "***\n",
    "3,\n",
    "and \n",
    "if input is 4 then it should print\n",
    "Basically number of lines it prints is equal to that number. (Hint: you need to use two for loops)"
   ]
  },
  {
   "cell_type": "code",
   "execution_count": 227,
   "id": "2d9f4094-7ee8-4f39-8895-6c446cebb4ca",
   "metadata": {},
   "outputs": [
    {
     "name": "stdin",
     "output_type": "stream",
     "text": [
      "enter no of astrik you want to print 5\n"
     ]
    },
    {
     "name": "stdout",
     "output_type": "stream",
     "text": [
      "\n",
      "*\n",
      "**\n",
      "***\n",
      "****\n",
      "*****\n"
     ]
    }
   ],
   "source": [
    "def astrik_patters(nu):\n",
    "    for i in range(nu+1):\n",
    "        for f in range(i):\n",
    "            print('*', end='')\n",
    "        print()\n",
    "nu=int(input(\"enter no of astrik you want to print\"))\n",
    "astrik_patters(nu)"
   ]
  },
  {
   "cell_type": "markdown",
   "id": "7f71aca7-e892-4ca5-a880-af0d726e5f5d",
   "metadata": {},
   "source": [
    "# modules"
   ]
  },
  {
   "cell_type": "code",
   "execution_count": 228,
   "id": "a8864be5-cda4-487d-918b-9bea6741e424",
   "metadata": {},
   "outputs": [
    {
     "data": {
      "text/plain": [
       "3.141592653589793"
      ]
     },
     "execution_count": 228,
     "metadata": {},
     "output_type": "execute_result"
    }
   ],
   "source": [
    "import math\n",
    "math.pi"
   ]
  },
  {
   "cell_type": "code",
   "execution_count": 229,
   "id": "2e0f68e8-0135-4f1c-9e95-f2f223b75164",
   "metadata": {},
   "outputs": [
    {
     "data": {
      "text/plain": [
       "3.0"
      ]
     },
     "execution_count": 229,
     "metadata": {},
     "output_type": "execute_result"
    }
   ],
   "source": [
    "math.log10(1000)"
   ]
  },
  {
   "cell_type": "code",
   "execution_count": 234,
   "id": "cd950879-47d9-4d02-8334-e2b50fc1ecb8",
   "metadata": {},
   "outputs": [
    {
     "data": {
      "text/plain": [
       "6.0"
      ]
     },
     "execution_count": 234,
     "metadata": {},
     "output_type": "execute_result"
    }
   ],
   "source": [
    "math.log10(1000000)"
   ]
  },
  {
   "cell_type": "code",
   "execution_count": 238,
   "id": "8eb814ec-5b52-413c-ba6f-b19d3c0608fa",
   "metadata": {},
   "outputs": [
    {
     "data": {
      "text/plain": [
       "5.196152422706632"
      ]
     },
     "execution_count": 238,
     "metadata": {},
     "output_type": "execute_result"
    }
   ],
   "source": [
    "math.sqrt(27)"
   ]
  },
  {
   "cell_type": "code",
   "execution_count": 239,
   "id": "ec5e7ff6-a6b4-468d-9ba8-90dc19ef6be7",
   "metadata": {},
   "outputs": [
    {
     "data": {
      "text/plain": [
       "['__doc__',\n",
       " '__loader__',\n",
       " '__name__',\n",
       " '__package__',\n",
       " '__spec__',\n",
       " 'acos',\n",
       " 'acosh',\n",
       " 'asin',\n",
       " 'asinh',\n",
       " 'atan',\n",
       " 'atan2',\n",
       " 'atanh',\n",
       " 'cbrt',\n",
       " 'ceil',\n",
       " 'comb',\n",
       " 'copysign',\n",
       " 'cos',\n",
       " 'cosh',\n",
       " 'degrees',\n",
       " 'dist',\n",
       " 'e',\n",
       " 'erf',\n",
       " 'erfc',\n",
       " 'exp',\n",
       " 'exp2',\n",
       " 'expm1',\n",
       " 'fabs',\n",
       " 'factorial',\n",
       " 'floor',\n",
       " 'fmod',\n",
       " 'frexp',\n",
       " 'fsum',\n",
       " 'gamma',\n",
       " 'gcd',\n",
       " 'hypot',\n",
       " 'inf',\n",
       " 'isclose',\n",
       " 'isfinite',\n",
       " 'isinf',\n",
       " 'isnan',\n",
       " 'isqrt',\n",
       " 'lcm',\n",
       " 'ldexp',\n",
       " 'lgamma',\n",
       " 'log',\n",
       " 'log10',\n",
       " 'log1p',\n",
       " 'log2',\n",
       " 'modf',\n",
       " 'nan',\n",
       " 'nextafter',\n",
       " 'perm',\n",
       " 'pi',\n",
       " 'pow',\n",
       " 'prod',\n",
       " 'radians',\n",
       " 'remainder',\n",
       " 'sin',\n",
       " 'sinh',\n",
       " 'sqrt',\n",
       " 'sumprod',\n",
       " 'tan',\n",
       " 'tanh',\n",
       " 'tau',\n",
       " 'trunc',\n",
       " 'ulp']"
      ]
     },
     "execution_count": 239,
     "metadata": {},
     "output_type": "execute_result"
    }
   ],
   "source": [
    "dir(math)"
   ]
  },
  {
   "cell_type": "code",
   "execution_count": 240,
   "id": "33e7f2cd-805f-436a-889e-2fb2d7a35cb6",
   "metadata": {},
   "outputs": [],
   "source": [
    "import calendar"
   ]
  },
  {
   "cell_type": "code",
   "execution_count": 245,
   "id": "9760300b-d614-421a-abda-cb6e3f5aa3ff",
   "metadata": {},
   "outputs": [
    {
     "name": "stdout",
     "output_type": "stream",
     "text": [
      "    January 2024\n",
      "Mo Tu We Th Fr Sa Su\n",
      " 1  2  3  4  5  6  7\n",
      " 8  9 10 11 12 13 14\n",
      "15 16 17 18 19 20 21\n",
      "22 23 24 25 26 27 28\n",
      "29 30 31\n",
      "\n"
     ]
    }
   ],
   "source": [
    "jan=calendar.month(2024, 1)\n",
    "print(jan)"
   ]
  },
  {
   "cell_type": "code",
   "execution_count": 247,
   "id": "ac6c5104-30a9-4f68-a0d1-e04c0cba3b3b",
   "metadata": {},
   "outputs": [
    {
     "data": {
      "text/plain": [
       "True"
      ]
     },
     "execution_count": 247,
     "metadata": {},
     "output_type": "execute_result"
    }
   ],
   "source": [
    "calendar.isleap(2024)"
   ]
  },
  {
   "cell_type": "code",
   "execution_count": 248,
   "id": "946ac910-9e47-4e39-8ffc-7d7f83535830",
   "metadata": {},
   "outputs": [
    {
     "data": {
      "text/plain": [
       "False"
      ]
     },
     "execution_count": 248,
     "metadata": {},
     "output_type": "execute_result"
    }
   ],
   "source": [
    "calendar.isleap(2023)"
   ]
  },
  {
   "cell_type": "code",
   "execution_count": 249,
   "id": "9053fdb0-348f-4868-afa3-6d502d632a60",
   "metadata": {},
   "outputs": [
    {
     "name": "stdout",
     "output_type": "stream",
     "text": [
      "__main__\n"
     ]
    }
   ],
   "source": [
    "print(__name__)"
   ]
  },
  {
   "cell_type": "markdown",
   "id": "bb125cd5-373e-421f-a4ab-6a54118deb4b",
   "metadata": {},
   "source": [
    "# Dictioneries"
   ]
  },
  {
   "cell_type": "code",
   "execution_count": 251,
   "id": "dfddee36-05bc-4df1-9597-fa3e9095acd7",
   "metadata": {},
   "outputs": [
    {
     "data": {
      "text/plain": [
       "dict"
      ]
     },
     "execution_count": 251,
     "metadata": {},
     "output_type": "execute_result"
    }
   ],
   "source": [
    "captains={}\n",
    "type(captains)"
   ]
  },
  {
   "cell_type": "code",
   "execution_count": 253,
   "id": "5a153cb2-4755-4441-82a7-cfdce2c12993",
   "metadata": {},
   "outputs": [
    {
     "data": {
      "text/plain": [
       "dict_keys(['india', 'pakistan', 'bangladesh'])"
      ]
     },
     "execution_count": 253,
     "metadata": {},
     "output_type": "execute_result"
    }
   ],
   "source": [
    "captains={\"india\":\"virat\", \"pakistan\":\"sarfraz\", \"bangladesh\":\"shanto\"}\n",
    "captains.keys()"
   ]
  },
  {
   "cell_type": "code",
   "execution_count": 254,
   "id": "f2a5884f-06ef-459e-91f4-2e1008119c5d",
   "metadata": {},
   "outputs": [
    {
     "data": {
      "text/plain": [
       "dict_values(['virat', 'sarfraz', 'shanto'])"
      ]
     },
     "execution_count": 254,
     "metadata": {},
     "output_type": "execute_result"
    }
   ],
   "source": [
    "captains.values()"
   ]
  },
  {
   "cell_type": "code",
   "execution_count": 255,
   "id": "5988ac32-d077-4bba-aa61-dcc8b0aa8430",
   "metadata": {},
   "outputs": [
    {
     "data": {
      "text/plain": [
       "'sarfraz'"
      ]
     },
     "execution_count": 255,
     "metadata": {},
     "output_type": "execute_result"
    }
   ],
   "source": [
    " captains['pakistan']"
   ]
  },
  {
   "cell_type": "code",
   "execution_count": 256,
   "id": "762bbdd3-02ea-47bb-85dc-329c9e953d7d",
   "metadata": {},
   "outputs": [
    {
     "data": {
      "text/plain": [
       "'virat'"
      ]
     },
     "execution_count": 256,
     "metadata": {},
     "output_type": "execute_result"
    }
   ],
   "source": [
    "captains['india']"
   ]
  },
  {
   "cell_type": "code",
   "execution_count": 259,
   "id": "d9ed9ed2-9096-4db4-aec7-b9c88d417fc6",
   "metadata": {},
   "outputs": [
    {
     "data": {
      "text/plain": [
       "'shanto'"
      ]
     },
     "execution_count": 259,
     "metadata": {},
     "output_type": "execute_result"
    }
   ],
   "source": [
    "captains['bangladesh']"
   ]
  },
  {
   "cell_type": "code",
   "execution_count": 260,
   "id": "881c697d-1ce3-465c-82b1-08bfdae8169c",
   "metadata": {},
   "outputs": [],
   "source": [
    "captains['england']='joe root'"
   ]
  },
  {
   "cell_type": "code",
   "execution_count": 263,
   "id": "98999cec-0c50-4950-bc1c-064933ffd06b",
   "metadata": {},
   "outputs": [
    {
     "data": {
      "text/plain": [
       "dict_keys(['india', 'pakistan', 'bangladesh', 'england'])"
      ]
     },
     "execution_count": 263,
     "metadata": {},
     "output_type": "execute_result"
    }
   ],
   "source": [
    "captains.keys()"
   ]
  },
  {
   "cell_type": "code",
   "execution_count": 264,
   "id": "7765b471-388b-461e-9727-ccddee82b9ff",
   "metadata": {},
   "outputs": [
    {
     "data": {
      "text/plain": [
       "{'india': 'virat',\n",
       " 'pakistan': 'sarfraz',\n",
       " 'bangladesh': 'shanto',\n",
       " 'england': 'joe root'}"
      ]
     },
     "execution_count": 264,
     "metadata": {},
     "output_type": "execute_result"
    }
   ],
   "source": [
    "captains"
   ]
  },
  {
   "cell_type": "code",
   "execution_count": 268,
   "id": "82213737-43dd-494f-a9cf-3b80ac680130",
   "metadata": {},
   "outputs": [
    {
     "name": "stdout",
     "output_type": "stream",
     "text": [
      "india ==> virat\n",
      "pakistan ==> sarfraz\n",
      "bangladesh ==> shanto\n",
      "england ==> joe root\n"
     ]
    }
   ],
   "source": [
    "for i in captains:\n",
    "    print(i, \"==>\",captains[i] )"
   ]
  },
  {
   "cell_type": "code",
   "execution_count": 271,
   "id": "55220266-df29-4d10-b59f-0834a3108576",
   "metadata": {},
   "outputs": [
    {
     "name": "stdout",
     "output_type": "stream",
     "text": [
      "india : virat\n",
      "pakistan : sarfraz\n",
      "bangladesh : shanto\n",
      "england : joe root\n"
     ]
    }
   ],
   "source": [
    "for i, v in captains.items():\n",
    "    print(i, \":\", v)"
   ]
  },
  {
   "cell_type": "code",
   "execution_count": 272,
   "id": "8eddb009-2b54-482a-8506-8d110e82eca8",
   "metadata": {},
   "outputs": [
    {
     "data": {
      "text/plain": [
       "'virat'"
      ]
     },
     "execution_count": 272,
     "metadata": {},
     "output_type": "execute_result"
    }
   ],
   "source": [
    "captains['india']"
   ]
  },
  {
   "cell_type": "code",
   "execution_count": 275,
   "id": "b912cfca-6d7e-4e7e-8b44-1831d2354326",
   "metadata": {},
   "outputs": [
    {
     "data": {
      "text/plain": [
       "'invalid'"
      ]
     },
     "execution_count": 275,
     "metadata": {},
     "output_type": "execute_result"
    }
   ],
   "source": [
    "captains.get('sdfsdfk', 'invalid')"
   ]
  },
  {
   "cell_type": "code",
   "execution_count": 277,
   "id": "a91d18c6-83a8-4a93-a31a-49a8b2b2ba98",
   "metadata": {},
   "outputs": [
    {
     "data": {
      "text/plain": [
       "'virat'"
      ]
     },
     "execution_count": 277,
     "metadata": {},
     "output_type": "execute_result"
    }
   ],
   "source": [
    "captains.get('india', \"lovely\")"
   ]
  },
  {
   "cell_type": "code",
   "execution_count": 278,
   "id": "47ad2a7e-67ff-46a2-9f2b-c5f2b5fbbf9e",
   "metadata": {},
   "outputs": [
    {
     "data": {
      "text/plain": [
       "'pakistan'"
      ]
     },
     "execution_count": 278,
     "metadata": {},
     "output_type": "execute_result"
    }
   ],
   "source": [
    "captains.get(\"pak\", \"pakistan\")"
   ]
  },
  {
   "cell_type": "code",
   "execution_count": 281,
   "id": "4fdf53f5-9e7a-4cb5-a20b-d7be9bad56cf",
   "metadata": {},
   "outputs": [
    {
     "data": {
      "text/plain": [
       "True"
      ]
     },
     "execution_count": 281,
     "metadata": {},
     "output_type": "execute_result"
    }
   ],
   "source": [
    "'pakistan' in captains"
   ]
  },
  {
   "cell_type": "code",
   "execution_count": 280,
   "id": "b8d97374-1639-4915-8ef1-47f325682b6b",
   "metadata": {},
   "outputs": [
    {
     "data": {
      "text/plain": [
       "True"
      ]
     },
     "execution_count": 280,
     "metadata": {},
     "output_type": "execute_result"
    }
   ],
   "source": [
    "'india' in captains\n"
   ]
  },
  {
   "cell_type": "markdown",
   "id": "05470aab-28d9-49d1-a8ea-0f2580eacdf4",
   "metadata": {},
   "source": [
    "# onfly dictionery..."
   ]
  },
  {
   "cell_type": "code",
   "execution_count": 282,
   "id": "74aa844e-1150-4ca7-bf9a-206ef540b32a",
   "metadata": {},
   "outputs": [
    {
     "data": {
      "text/plain": [
       "{'opa': 'halvai', 'kha': 'nehari', 9: 'opfopsd'}"
      ]
     },
     "execution_count": 282,
     "metadata": {},
     "output_type": "execute_result"
    }
   ],
   "source": [
    "gt={}\n",
    "gt['opa']=\"halvai\"\n",
    "gt['kha']=\"nehari\"\n",
    "gt[9]=\"opfopsd\"\n",
    "gt\n",
    "t"
   ]
  },
  {
   "cell_type": "markdown",
   "id": "9e8be95a-03f8-4ace-a693-462495f5cc5a",
   "metadata": {},
   "source": [
    "# Tuples"
   ]
  },
  {
   "cell_type": "code",
   "execution_count": 283,
   "id": "ef8db165-8f40-4c8b-ac36-2dc79908bf51",
   "metadata": {},
   "outputs": [],
   "source": [
    "point=(4,5,6,7,\"dfgsdj\", 'ri')"
   ]
  },
  {
   "cell_type": "code",
   "execution_count": 284,
   "id": "ae62a038-4a35-4158-b644-38a09592eed2",
   "metadata": {},
   "outputs": [
    {
     "data": {
      "text/plain": [
       "(4, 5, 6, 7, 'dfgsdj', 'ri')"
      ]
     },
     "execution_count": 284,
     "metadata": {},
     "output_type": "execute_result"
    }
   ],
   "source": [
    "point"
   ]
  },
  {
   "cell_type": "markdown",
   "id": "2028808c-980f-49ca-9ead-2a8359db0e32",
   "metadata": {},
   "source": [
    "# Exercise: Python Dict and Tuples"
   ]
  },
  {
   "cell_type": "code",
   "execution_count": null,
   "id": "2d9ed8d8-bd64-4e3f-8b8b-052ce26a0aff",
   "metadata": {},
   "outputs": [],
   "source": [
    "# We have following information on countries and their population (population is in crores),\n",
    "ountry\tPopulation\n",
    "China\t143\n",
    "India\t136\n",
    "USA\t32\n",
    "Pakistan\t21\n",
    "i-Using above create a dictionary of countries and its population\n",
    "ii-Write a program that asks user for three type of inputs,\n",
    "    a-print: if user enter print then it should print all countries with their population in this format,\n",
    "china==>143\n",
    "india==>136\n",
    "usa==>32\n",
    "pakistan==>21\n",
    "    b-add: if user input add then it should further ask for a country name to add. If country already exist\n",
    "    in our dataset then it should print that it exist and do nothing. If it doesn't then it asks for population \n",
    "    and add that new country/population in our dictionary and print it\n",
    "    c-remove: when user inputs remove it should ask for a country to remove. If country exist in our dictionary\n",
    "    then remove it and print new dictionary using format shown above in (a). Else print that country doesn't exist!\n",
    "    d-query: on this again ask user for which country he or she wants to query. When user inputs that country it will\n",
    "    print population of that country.\n"
   ]
  },
  {
   "cell_type": "code",
   "execution_count": 2,
   "id": "f884044d-0ce3-464a-8cf2-8cf2b748d9b4",
   "metadata": {},
   "outputs": [
    {
     "data": {
      "text/plain": [
       "{'china': 143, 'india': 136, 'usa': 32, 'pakistan': 21}"
      ]
     },
     "execution_count": 2,
     "metadata": {},
     "output_type": "execute_result"
    }
   ],
   "source": [
    "p_country={'china':143, 'india':136, 'usa': 32, 'pakistan':21}\n",
    "p_country"
   ]
  },
  {
   "cell_type": "code",
   "execution_count": 3,
   "id": "87f56f20-dd81-49a3-b54a-e9a23e797cf0",
   "metadata": {},
   "outputs": [
    {
     "name": "stdin",
     "output_type": "stream",
     "text": [
      "enter user choice print\n"
     ]
    },
    {
     "name": "stdout",
     "output_type": "stream",
     "text": [
      "china ==> 143\n",
      "india ==> 136\n",
      "usa ==> 32\n",
      "pakistan ==> 21\n"
     ]
    }
   ],
   "source": [
    "# a-\n",
    "use=input(\"enter user choice\")\n",
    "if use=='print':\n",
    "    for i, v in p_country.items():\n",
    "        print(i, \"==>\", v)\n",
    "else:\n",
    "    pass"
   ]
  },
  {
   "cell_type": "code",
   "execution_count": null,
   "id": "7ceb3936-6e75-48f6-8bc7-2c0fabec5ab2",
   "metadata": {},
   "outputs": [],
   "source": []
  },
  {
   "cell_type": "code",
   "execution_count": 4,
   "id": "6514e624-2d01-4229-b8be-2a83d14eda2a",
   "metadata": {},
   "outputs": [
    {
     "name": "stdin",
     "output_type": "stream",
     "text": [
      "enter user choice print\n"
     ]
    },
    {
     "name": "stdout",
     "output_type": "stream",
     "text": [
      "china ==> 143\n",
      "india ==> 136\n",
      "usa ==> 32\n",
      "pakistan ==> 21\n"
     ]
    }
   ],
   "source": [
    "# a-\n",
    "use=input(\"enter user choice\")\n",
    "if use=='print':\n",
    "    for i in p_country:\n",
    "        print(i, \"==>\", p_country[i])\n",
    "else:\n",
    "    pass"
   ]
  },
  {
   "cell_type": "code",
   "execution_count": null,
   "id": "a3912d66-3b37-4fa3-a4ed-55465a9b039d",
   "metadata": {},
   "outputs": [],
   "source": []
  },
  {
   "cell_type": "code",
   "execution_count": 5,
   "id": "adb56905-7878-4df7-b13e-0578e2c239b6",
   "metadata": {},
   "outputs": [
    {
     "data": {
      "text/plain": [
       "{'china': 143, 'india': 136, 'usa': 32, 'pakistan': 21}"
      ]
     },
     "execution_count": 5,
     "metadata": {},
     "output_type": "execute_result"
    }
   ],
   "source": [
    "p_country"
   ]
  },
  {
   "cell_type": "code",
   "execution_count": 14,
   "id": "ab7dd1d5-9283-4fd9-874e-8a5a8baffde8",
   "metadata": {},
   "outputs": [
    {
     "name": "stdin",
     "output_type": "stream",
     "text": [
      "Enter user choice (print/add):  add\n",
      "Enter country name to add:  nigeria\n",
      "Please enter the population to add for the new country:  88\n"
     ]
    },
    {
     "name": "stdout",
     "output_type": "stream",
     "text": [
      "USA ==> 331002651\n",
      "India ==> 1380004385\n",
      "China ==> 1439323776\n",
      "nigeria ==> 88\n"
     ]
    }
   ],
   "source": [
    "# b\n",
    "p_country = {\"USA\": 331002651, \"India\": 1380004385, \"China\": 1439323776}  # Example dictionary\n",
    "\n",
    "use = input(\"Enter user choice (print/add): \")\n",
    "\n",
    "if use == 'print':\n",
    "    for i, v in p_country.items():\n",
    "        print(i, \"==>\", v)\n",
    "        \n",
    "elif use == 'add':\n",
    "    cout = input(\"Enter country name to add: \")\n",
    "    \n",
    "    if cout in p_country:  # Use cout instead of count\n",
    "        print(\"It exists and does nothing.\")\n",
    "    else:\n",
    "        popu = input(\"Please enter the population to add for the new country: \")\n",
    "        p_country[cout] = popu  # Use cout as the key and popu as the value\n",
    "        \n",
    "        # Print the updated dictionary\n",
    "        for i, v in p_country.items():\n",
    "            print(i, \"==>\", v)\n",
    "else:\n",
    "    pass\n"
   ]
  },
  {
   "cell_type": "code",
   "execution_count": 19,
   "id": "8c047248-f884-4817-ac4e-4fa1b9987fe3",
   "metadata": {},
   "outputs": [
    {
     "data": {
      "text/plain": [
       "{'USA': 331002651, 'India': 1380004385, 'China': 1439323776}"
      ]
     },
     "execution_count": 19,
     "metadata": {},
     "output_type": "execute_result"
    }
   ],
   "source": [
    "p_country"
   ]
  },
  {
   "cell_type": "code",
   "execution_count": 23,
   "id": "783a4362-a6a2-4685-9f35-92c0f0e1c28c",
   "metadata": {},
   "outputs": [
    {
     "name": "stdin",
     "output_type": "stream",
     "text": [
      "Enter user choice remove/other remove\n",
      "please enter country you want to remove USA\n"
     ]
    },
    {
     "name": "stdout",
     "output_type": "stream",
     "text": [
      "India ==> 1380004385\n",
      "China ==> 1439323776\n"
     ]
    }
   ],
   "source": [
    "# c\n",
    "p_country = {\"USA\": 331002651, \"India\": 1380004385, \"China\": 1439323776}  # Example dictionary\n",
    "use = input(\"Enter user choice remove/other\")\n",
    "\n",
    "if use == 'remove':\n",
    "    coun=input(\"please enter country you want to remove\")\n",
    "    if coun in p_country:\n",
    "        p_country.pop(coun)\n",
    "        for i, v in p_country.items():\n",
    "            print(i, \"==>\", v)\n",
    "else:\n",
    "    print(\"country doesn't exist!\")\n",
    "    \n",
    "    # if cout in p_country:  # Use cout instead of count\n",
    "    #     print(\"It exists and does nothing.\")\n",
    "    # else:\n",
    "    #     popu = input(\"Please enter the population to add for the new country: \")\n",
    "    #     p_country[cout] = popu  # Use cout as the key and popu as the value\n",
    "        \n",
    "    #     # Print the updated dictionary\n",
    "    #     for i, v in p_country.items():\n",
    "#     #         print(i, \"==>\", v)\n",
    "# else:\n",
    "#     pass\n"
   ]
  },
  {
   "cell_type": "code",
   "execution_count": 42,
   "id": "80e233b4-ffab-455a-b241-2f8b974d9929",
   "metadata": {},
   "outputs": [
    {
     "name": "stdin",
     "output_type": "stream",
     "text": [
      "Enter user choice which country he want to query India\n"
     ]
    },
    {
     "name": "stdout",
     "output_type": "stream",
     "text": [
      "the population of India is 1380004385\n"
     ]
    }
   ],
   "source": [
    "# d-\n",
    "p_country = {\"USA\": 331002651, \"India\": 1380004385, \"China\": 1439323776}  # Example dictionary\n",
    "use = input(\"Enter user choice which country he want to query\")\n",
    "\n",
    "if use in p_country:\n",
    "    print(f\"the population of {use} is {p_country.get(use)}\")\n",
    "    # p_country.get(use)\n",
    "else:\n",
    "    print(\"country doesn't exist!\")"
   ]
  },
  {
   "cell_type": "code",
   "execution_count": null,
   "id": "022f3370-9f09-4130-9e94-35ed5f0767f5",
   "metadata": {},
   "outputs": [],
   "source": []
  },
  {
   "cell_type": "code",
   "execution_count": 33,
   "id": "eb266e1f-9587-4523-842f-1c1a3ed677a0",
   "metadata": {},
   "outputs": [
    {
     "data": {
      "text/plain": [
       "{'India': 1380004385, 'China': 1439323776}"
      ]
     },
     "execution_count": 33,
     "metadata": {},
     "output_type": "execute_result"
    }
   ],
   "source": [
    "p_country"
   ]
  },
  {
   "cell_type": "code",
   "execution_count": null,
   "id": "593084cb-d859-4757-b110-1c3f468d9b44",
   "metadata": {},
   "outputs": [],
   "source": [
    "ue='India'"
   ]
  },
  {
   "cell_type": "code",
   "execution_count": 41,
   "id": "ad1f1290-867b-4194-a6d5-fd75547aadd0",
   "metadata": {},
   "outputs": [
    {
     "name": "stdout",
     "output_type": "stream",
     "text": [
      "None\n"
     ]
    }
   ],
   "source": [
    "o=p_country.get('ue')\n",
    "print(o)"
   ]
  },
  {
   "cell_type": "code",
   "execution_count": null,
   "id": "a3a1c5d3-7b58-4c95-b3ff-8fbb2f5a2cb0",
   "metadata": {},
   "outputs": [],
   "source": [
    "2-You are given following list of stocks and their prices in last 3 days,\n",
    "Stock\tPrices\n",
    "info\t[600,630,620]\n",
    "ril\t[1430,1490,1567]\n",
    "mtl\t[234,180,160]\n",
    "i-Write a program that asks user for operation. Value of operations could be,\n",
    "    a-print: When user enters print it should print following,\n",
    "        info ==> [600, 630, 620] ==> avg:  616.67\n",
    "        ril ==> [1430, 1490, 1567] ==> avg:  1495.67\n",
    "        mtl ==> [234, 180, 160] ==> avg:  191.33\n",
    "    b-add: When user enters 'add', it asks for stock ticker and price. If stock already \n",
    "    exist in your list (like info, ril etc) then it will append the price to the list. \n",
    "    Otherwise it will create new entry in your dictionary. For example entering 'tata' and 560\n",
    "    will add tata ==> [560] to the dictionary of stocks.\n"
   ]
  },
  {
   "cell_type": "code",
   "execution_count": 43,
   "id": "c2e1e7b3-fe34-409f-bd1d-287196fef840",
   "metadata": {},
   "outputs": [
    {
     "name": "stdin",
     "output_type": "stream",
     "text": [
      "Enter operation (print):  print\n"
     ]
    },
    {
     "name": "stdout",
     "output_type": "stream",
     "text": [
      "info ==> [600, 630, 620] ==> avg: 616.67\n",
      "ril ==> [1430, 1490, 1567] ==> avg: 1495.67\n",
      "mtl ==> [234, 180, 160] ==> avg: 191.33\n"
     ]
    }
   ],
   "source": [
    "# a-\n",
    "# Define the stock prices\n",
    "stocks = {\n",
    "    \"info\": [600, 630, 620],\n",
    "    \"ril\": [1430, 1490, 1567],\n",
    "    \"mtl\": [234, 180, 160]\n",
    "}\n",
    "\n",
    "# Function to calculate average\n",
    "def calculate_average(prices):\n",
    "    return sum(prices) / len(prices)\n",
    "\n",
    "# Function to handle the 'print' operation\n",
    "def print_stocks():\n",
    "    for stock, prices in stocks.items():\n",
    "        avg_price = calculate_average(prices)\n",
    "        print(f\"{stock} ==> {prices} ==> avg: {avg_price:.2f}\")\n",
    "\n",
    "# Ask user for operation\n",
    "operation = input(\"Enter operation (print): \").strip().lower()\n",
    "\n",
    "# Perform operation\n",
    "if operation == 'print':\n",
    "    print_stocks()\n",
    "else:\n",
    "    print(\"Invalid operation.\")\n"
   ]
  },
  {
   "cell_type": "code",
   "execution_count": 44,
   "id": "27d99dba-921a-4b4f-85aa-fd06c39ba56e",
   "metadata": {},
   "outputs": [
    {
     "name": "stdin",
     "output_type": "stream",
     "text": [
      "Enter operation (print/add):  add\n",
      "Enter stock ticker:  tata\n",
      "Enter price for tata:  3223\n"
     ]
    },
    {
     "name": "stdout",
     "output_type": "stream",
     "text": [
      "tata ==> [3223.0]\n"
     ]
    }
   ],
   "source": [
    "# b\n",
    "# Define the stock prices\n",
    "stocks = {\n",
    "    \"info\": [600, 630, 620],\n",
    "    \"ril\": [1430, 1490, 1567],\n",
    "    \"mtl\": [234, 180, 160]\n",
    "}\n",
    "\n",
    "# Function to calculate average\n",
    "def calculate_average(prices):\n",
    "    return sum(prices) / len(prices)\n",
    "\n",
    "# Function to handle the 'print' operation\n",
    "def print_stocks():\n",
    "    for stock, prices in stocks.items():\n",
    "        avg_price = calculate_average(prices)\n",
    "        print(f\"{stock} ==> {prices} ==> avg: {avg_price:.2f}\")\n",
    "\n",
    "# Function to handle the 'add' operation\n",
    "def add_stock():\n",
    "    stock_ticker = input(\"Enter stock ticker: \").strip().lower()\n",
    "    price = float(input(f\"Enter price for {stock_ticker}: \").strip())\n",
    "    \n",
    "    # Check if stock ticker exists in the dictionary\n",
    "    if stock_ticker in stocks:\n",
    "        stocks[stock_ticker].append(price)\n",
    "    else:\n",
    "        stocks[stock_ticker] = [price]\n",
    "    \n",
    "    print(f\"{stock_ticker} ==> {stocks[stock_ticker]}\")\n",
    "\n",
    "# Ask user for operation\n",
    "operation = input(\"Enter operation (print/add): \").strip().lower()\n",
    "\n",
    "# Perform operation\n",
    "if operation == 'print':\n",
    "    print_stocks()\n",
    "elif operation == 'add':\n",
    "    add_stock()\n",
    "else:\n",
    "    print(\"Invalid operation.\")\n"
   ]
  },
  {
   "cell_type": "markdown",
   "id": "92b166a1-896f-4544-a2c1-6da51cc48232",
   "metadata": {},
   "source": [
    "# 3-Write circle_calc() function that takes radius of a circle as an input from user and then it calculates and returns area, circumference and diameter. You should get these values in your main program by calling circle_calc function and then print them"
   ]
  },
  {
   "cell_type": "code",
   "execution_count": 45,
   "id": "2553f340-38e1-404b-b4f8-39cdebd12509",
   "metadata": {},
   "outputs": [
    {
     "name": "stdin",
     "output_type": "stream",
     "text": [
      "Enter the radius of the circle:  2\n"
     ]
    },
    {
     "name": "stdout",
     "output_type": "stream",
     "text": [
      "Area: 12.57\n",
      "Circumference: 12.57\n",
      "Diameter: 4.00\n"
     ]
    }
   ],
   "source": [
    "import math\n",
    "\n",
    "# Function to calculate area, circumference, and diameter of a circle\n",
    "def circle_calc():\n",
    "    radius = float(input(\"Enter the radius of the circle: \"))\n",
    "    \n",
    "    # Calculating area, circumference, and diameter\n",
    "    area = math.pi * radius ** 2\n",
    "    circumference = 2 * math.pi * radius\n",
    "    diameter = 2 * radius\n",
    "    \n",
    "    # Returning the calculated values\n",
    "    return area, circumference, diameter\n",
    "\n",
    "# Main program\n",
    "area, circumference, diameter = circle_calc()\n",
    "\n",
    "# Printing the results\n",
    "print(f\"Area: {area:.2f}\")\n",
    "print(f\"Circumference: {circumference:.2f}\")\n",
    "print(f\"Diameter: {diameter:.2f}\")\n"
   ]
  },
  {
   "cell_type": "code",
   "execution_count": 47,
   "id": "a75911b7-75f1-4cd9-a897-e7127257d1f9",
   "metadata": {},
   "outputs": [
    {
     "name": "stdout",
     "output_type": "stream",
     "text": [
      "78.53981633974483\n"
     ]
    }
   ],
   "source": [
    "import math\n",
    "\n",
    "def calc_area(r):\n",
    "    return math.pi * r ** 2\n",
    "\n",
    "if __name__ == \"__main__\":\n",
    "    area = calc_area(5)\n",
    "    print(area)\n"
   ]
  },
  {
   "cell_type": "markdown",
   "id": "b7eeb44c-54fc-487d-bf9a-616d15558105",
   "metadata": {},
   "source": [
    "# File handling in python"
   ]
  },
  {
   "cell_type": "code",
   "execution_count": 9,
   "id": "d97d14d0-4bd5-4766-b9d5-b2d1d7c00ef4",
   "metadata": {},
   "outputs": [
    {
     "name": "stdout",
     "output_type": "stream",
     "text": [
      "wikas: this is a hero\n",
      "nejeeb:who are you\n",
      "wiakas:this is a lair\n",
      "nejeeb:what a stuped.\n"
     ]
    }
   ],
   "source": [
    "with open(\"funny.txt\", \"r\") as f:\n",
    "    content = f.read()\n",
    "    print(content)\n"
   ]
  },
  {
   "cell_type": "code",
   "execution_count": 10,
   "id": "a6d7fc9e-4b61-46ae-aaa2-93fd6a36294f",
   "metadata": {},
   "outputs": [
    {
     "name": "stdout",
     "output_type": "stream",
     "text": [
      "wikas: this is a hero\n",
      "\n"
     ]
    }
   ],
   "source": [
    "f = open(\"funny.txt\", \"r\")\n",
    "print(f.readline())"
   ]
  },
  {
   "cell_type": "code",
   "execution_count": 11,
   "id": "69dd9bef-45ff-4532-95bc-150d4fb46266",
   "metadata": {},
   "outputs": [
    {
     "name": "stdout",
     "output_type": "stream",
     "text": [
      "wikas\n"
     ]
    }
   ],
   "source": [
    "f = open(\"funny.txt\", \"r\")\n",
    "print(f.read(5))"
   ]
  },
  {
   "cell_type": "code",
   "execution_count": 12,
   "id": "c13f4202-0d4a-4bfb-bb2d-200a7144cde1",
   "metadata": {},
   "outputs": [
    {
     "name": "stdout",
     "output_type": "stream",
     "text": [
      "wikas: this is a hero\n",
      "\n",
      "nejeeb:who are you\n",
      "\n"
     ]
    }
   ],
   "source": [
    "f = open(\"funny.txt\", \"r\")\n",
    "print(f.readline())\n",
    "print(f.readline())"
   ]
  },
  {
   "cell_type": "code",
   "execution_count": 13,
   "id": "277c302d-0967-42c1-90d9-0db7ccffd1bb",
   "metadata": {},
   "outputs": [
    {
     "name": "stdout",
     "output_type": "stream",
     "text": [
      "wikas: this is a hero\n",
      "\n",
      "nejeeb:who are you\n",
      "\n",
      "wiakas:this is a lair\n",
      "\n",
      "nejeeb:what a stuped.\n"
     ]
    }
   ],
   "source": [
    "f = open(\"funny.txt\", \"r\")\n",
    "for i in f:\n",
    "    print(i)"
   ]
  },
  {
   "cell_type": "code",
   "execution_count": 27,
   "id": "7b8acd5e-0637-4753-8efe-d6a5ce1568f0",
   "metadata": {},
   "outputs": [
    {
     "name": "stdout",
     "output_type": "stream",
     "text": [
      "wikas: this is a hero\n",
      "nejeeb:who are you\n",
      "wiakas:this is a lair\n",
      "nejeeb:what a stuped.Now the file has more content!Now the file has more content!\n"
     ]
    }
   ],
   "source": [
    "with open(\"funny.txt\", \"a\") as f:\n",
    "    f.write(\"Now the file has more content!\")\n",
    "    f.close()\n",
    "with open (\"funny.txt\", \"r\") as f:\n",
    "    print(f.read())"
   ]
  },
  {
   "cell_type": "code",
   "execution_count": 29,
   "id": "7d23a3e7-2b8a-4725-ab8b-8b7662c25028",
   "metadata": {},
   "outputs": [
    {
     "name": "stdout",
     "output_type": "stream",
     "text": [
      "Now the file has more content!\n"
     ]
    }
   ],
   "source": [
    "with open(\"funny.txt\", \"w\") as f:\n",
    "    f.write(\"Now the file has more content!\")\n",
    "    f.close()\n",
    "with open (\"funny.txt\", \"r\") as f:\n",
    "    print(f.read())"
   ]
  },
  {
   "cell_type": "code",
   "execution_count": 2,
   "id": "b987515d-58c2-4439-b0a2-cf1b528e742b",
   "metadata": {},
   "outputs": [],
   "source": [
    "f=open(\"healt.txt\", \"x\")"
   ]
  },
  {
   "cell_type": "code",
   "execution_count": 3,
   "id": "7ff0798d-74af-48f9-ac65-c8f3f8878724",
   "metadata": {},
   "outputs": [],
   "source": [
    "with open (\"healt.txt\", \"w\") as f:\n",
    "    f.write(\"Hello Doctors\")\n",
    "    f.close()"
   ]
  },
  {
   "cell_type": "code",
   "execution_count": 7,
   "id": "9f588ab5-6268-4d23-90a0-4dffca5ec268",
   "metadata": {},
   "outputs": [
    {
     "name": "stdout",
     "output_type": "stream",
     "text": [
      "Hello Doctors\n"
     ]
    }
   ],
   "source": [
    "with open (\"healt.txt\", \"r\") as f:\n",
    "    print(f.read())\n",
    "    f.close()"
   ]
  },
  {
   "cell_type": "code",
   "execution_count": 14,
   "id": "673fd0b1-1ace-430e-a5c6-372605e1c2a5",
   "metadata": {},
   "outputs": [
    {
     "name": "stdout",
     "output_type": "stream",
     "text": [
      "Hello DoctorsHello give us timeHello give us timeHello give us timeHello give us time\n",
      "Hello give us time\n",
      "Hello give us time\n"
     ]
    }
   ],
   "source": [
    "with open (\"healt.txt\", \"a\") as f:\n",
    "    f.write(\"\\nHello give us time\")\n",
    "    f.close()\n",
    "with open (\"healt.txt\", \"r\") as f:\n",
    "    print(f.read())"
   ]
  },
  {
   "cell_type": "code",
   "execution_count": 16,
   "id": "635ac9df-145d-448c-834d-7cced1e11e99",
   "metadata": {},
   "outputs": [],
   "source": [
    "f = open (\"hello.txt\", \"x\") "
   ]
  },
  {
   "cell_type": "code",
   "execution_count": 19,
   "id": "535bbcb4-62ae-4f5a-949f-23f684589177",
   "metadata": {},
   "outputs": [
    {
     "name": "stdout",
     "output_type": "stream",
     "text": [
      "Hello this is the world of Data Sceience\n"
     ]
    }
   ],
   "source": [
    "with open (\"hello.txt\", \"w\") as f:\n",
    "    f.write(\"Hello this is the world of Data Sceience\")\n",
    "    f.close()\n",
    "with open (\"hello.txt\", \"r\") as f:\n",
    "    print(f.read())"
   ]
  },
  {
   "cell_type": "code",
   "execution_count": 45,
   "id": "6fbbd0b5-360e-4c29-bfa2-e4a44b556ef0",
   "metadata": {},
   "outputs": [
    {
     "name": "stdout",
     "output_type": "stream",
     "text": [
      "Hello this is the world of Artificial intelligence\n"
     ]
    }
   ],
   "source": [
    "with open (\"hello.txt\", \"w\") as f:\n",
    "    f.write(\"Hello this is the world of Artificial intelligence\")\n",
    "    f.close()\n",
    "with open (\"hello.txt\", \"r\") as f:\n",
    "    print(f.read())"
   ]
  },
  {
   "cell_type": "code",
   "execution_count": 26,
   "id": "ab6515ab-4973-4e8e-9c54-89912d66a487",
   "metadata": {},
   "outputs": [],
   "source": [
    "# import os\n",
    "# os.remove(\"hello.txt\")"
   ]
  },
  {
   "cell_type": "code",
   "execution_count": 47,
   "id": "49608d38-fab7-49a1-92af-fa9dffa4882b",
   "metadata": {},
   "outputs": [
    {
     "name": "stdout",
     "output_type": "stream",
     "text": [
      "file did exist\n"
     ]
    }
   ],
   "source": [
    "import os\n",
    "if os.path.exists(\"hello.txt\"):\n",
    "    os.remove(\"hello.txt\")\n",
    "else:\n",
    "    print(\"file did exist\")"
   ]
  },
  {
   "cell_type": "code",
   "execution_count": 44,
   "id": "184d079b-09b0-4023-8a1b-08939e94c207",
   "metadata": {},
   "outputs": [],
   "source": [
    "import os\n",
    "os.rmdir(\"qa\")"
   ]
  },
  {
   "cell_type": "markdown",
   "id": "7815560f-ab3e-470e-8fb4-f3416a0b226f",
   "metadata": {},
   "source": [
    "# Read Write File"
   ]
  },
  {
   "cell_type": "code",
   "execution_count": 69,
   "id": "44b27c3b-aa55-40d4-bec0-3fe051d2afdf",
   "metadata": {},
   "outputs": [
    {
     "name": "stdout",
     "output_type": "stream",
     "text": [
      "rohit min score is=> 67 ,rohit max score is =>100 rohit average scores =>89.0\n",
      "baber min score is=> 78 ,baber max score is =>122 baber average scores =>100.66666666666667\n",
      "skib min score is=> 67 ,skib max score is =>190 skib average scores =>122.66666666666667\n"
     ]
    }
   ],
   "source": [
    "player_score = {}\n",
    "with open(\"crick.csv\", \"r\") as f:\n",
    "    for line in f:\n",
    "        if len(line) <2:\n",
    "            continue\n",
    "        token=line.split(',') #it return ['player_na':'score_']\n",
    "        player=token[0] # assign 0th index value  player\n",
    "        score=int(token[1]) # assign 1 index value ot score\n",
    "        if player in player_score:\n",
    "            player_score[player].append(score) #if the player is already in dict then append his score at the end\n",
    "        else:\n",
    "            player_score[player]=[score]# If the player not in dict then add the player and  his score also.\n",
    "for player, score_list in player_score.items():\n",
    "    min_score=min(score_list)\n",
    "    max_score=max(score_list)\n",
    "    average_score=sum(score_list)/len(score_list)\n",
    "    print(f\"{player} min score is=> {min_score} ,{player} max score is =>{max_score} {player} average scores =>{average_score}\")\n",
    "    # print(score_list)"
   ]
  },
  {
   "cell_type": "markdown",
   "id": "6765592d-d73b-432d-a608-33c0341ea272",
   "metadata": {},
   "source": [
    "# 1-poem.txt contains famous poem \"Road not taken\" by poet Robert Frost. You have to read this file in your python program and find out words with maximum occurance."
   ]
  },
  {
   "cell_type": "code",
   "execution_count": 70,
   "id": "7547237b-2cb0-4c92-8fe2-8324811b11bb",
   "metadata": {},
   "outputs": [],
   "source": [
    "f=open(\"poem.txt\", \"x\")"
   ]
  },
  {
   "cell_type": "code",
   "execution_count": 76,
   "id": "72613c90-559b-4b97-bcfa-a7be9f7a2582",
   "metadata": {},
   "outputs": [
    {
     "name": "stdout",
     "output_type": "stream",
     "text": [
      "The word(s) with the highest frequency: ['and']\n",
      "Frequency: 9\n"
     ]
    }
   ],
   "source": [
    "from collections import Counter\n",
    "\n",
    "# Open and read the file\n",
    "with open(\"poem.txt\", \"r\") as f:\n",
    "    text = f.read()\n",
    "\n",
    "# Split the text into words and make them lowercase for consistent counting\n",
    "words = text.lower().split()\n",
    "\n",
    "# Remove any punctuation (if needed)\n",
    "words = [word.strip('.,!?;\"\\'') for word in words]\n",
    "\n",
    "# Count the frequency of each word\n",
    "word_count = Counter(words)\n",
    "\n",
    "# Find the word(s) with the maximum occurrence\n",
    "max_count = max(word_count.values())\n",
    "most_common_words = [word for word, count in word_count.items() if count == max_count]\n",
    "\n",
    "print(f\"The word(s) with the highest frequency: {most_common_words}\")\n",
    "print(f\"Frequency: {max_count}\")\n"
   ]
  },
  {
   "cell_type": "code",
   "execution_count": 77,
   "id": "3ba3787b-60f1-4cae-b53d-3f7fa2895238",
   "metadata": {},
   "outputs": [
    {
     "name": "stdout",
     "output_type": "stream",
     "text": [
      "Most common word(s): ['and'], Frequency: 9\n"
     ]
    }
   ],
   "source": [
    "with open(\"poem.txt\", \"r\") as f:\n",
    "    text = f.read().lower().split()  # Read file, convert to lowercase, and split into words\n",
    "word_count = {word.strip('.,!?;\"\\''): text.count(word) for word in set(text)}  # Count occurrences\n",
    "max_count = max(word_count.values())  # Find max occurrence\n",
    "most_common_words = [word for word, count in word_count.items() if count == max_count]  # Find most common words\n",
    "print(f\"Most common word(s): {most_common_words}, Frequency: {max_count}\")  # Output result\n"
   ]
  },
  {
   "cell_type": "markdown",
   "id": "c58632fa-9864-4aec-b86c-a99b635f10a2",
   "metadata": {},
   "source": [
    "# 2-stocks.csv contains stock price, earnings per share and book value. You are writing a stock market application that will process this file and create a new file with financial metrics such as pe ratio and price to book ratio. These are calculated as,"
   ]
  },
  {
   "cell_type": "code",
   "execution_count": 81,
   "id": "ab30dbd2-f581-4f65-9eb7-398a73bf4655",
   "metadata": {},
   "outputs": [],
   "source": [
    "# Read the CSV file and process the data\n",
    "with open(\"stocks.csv\", \"r\") as f:\n",
    "    lines = f.readlines()\n",
    "\n",
    "# Open a new file to write the results\n",
    "with open(\"stock_metrics.csv\", \"w\") as f_out:\n",
    "    f_out.write(\"Company Name,PE Ratio,PB Ratio\\n\")  # Writing the header with commas\n",
    "    \n",
    "    for line in lines[1:]:  # Skip header\n",
    "        company, price, eps, book_value = line.strip().split(\",\")\n",
    "        price = float(price)\n",
    "        eps = float(eps)\n",
    "        book_value = float(book_value)\n",
    "        \n",
    "        # Calculate the metrics\n",
    "        pe_ratio = price / eps if eps != 0 else 0  # Handle division by zero\n",
    "        pb_ratio = price / book_value if book_value != 0 else 0\n",
    "        \n",
    "        # Write the result into the new file with comma-separated values\n",
    "        f_out.write(f\"{company},{pe_ratio:.2f},{pb_ratio:.2f}\\n\")\n"
   ]
  },
  {
   "cell_type": "markdown",
   "id": "4f590889-40d8-408b-8a90-7595c862fd1e",
   "metadata": {},
   "source": [
    "# Try Catch"
   ]
  },
  {
   "cell_type": "code",
   "execution_count": 5,
   "id": "0c495c78-3af3-4b7f-9537-23ffacac4654",
   "metadata": {},
   "outputs": [
    {
     "name": "stdout",
     "output_type": "stream",
     "text": [
      "X is invalid\n"
     ]
    }
   ],
   "source": [
    "try:\n",
    "    print(X)\n",
    "except:\n",
    "    print(\"X is invalid\")"
   ]
  },
  {
   "cell_type": "code",
   "execution_count": 6,
   "id": "a257cb8a-70cf-4c7a-9ba4-4d265ba6416f",
   "metadata": {},
   "outputs": [
    {
     "name": "stdout",
     "output_type": "stream",
     "text": [
      "Variable x is not defined\n"
     ]
    }
   ],
   "source": [
    "try:\n",
    "  print(x)\n",
    "except NameError:\n",
    "  print(\"Variable x is not defined\")\n",
    "except:\n",
    "  print(\"Something else went wrong\")"
   ]
  },
  {
   "cell_type": "code",
   "execution_count": 7,
   "id": "28b5b9ff-0eb7-48d5-9d25-acf2f4fc57ff",
   "metadata": {},
   "outputs": [
    {
     "name": "stdout",
     "output_type": "stream",
     "text": [
      "Hello\n",
      "Nothing went wrong\n"
     ]
    }
   ],
   "source": [
    "try:\n",
    "  print(\"Hello\")\n",
    "except:\n",
    "  print(\"Something went wrong\")\n",
    "else:\n",
    "  print(\"Nothing went wrong\")"
   ]
  },
  {
   "cell_type": "code",
   "execution_count": 8,
   "id": "dac32c13-9d80-43f1-af83-a749312d3d42",
   "metadata": {},
   "outputs": [
    {
     "name": "stdout",
     "output_type": "stream",
     "text": [
      "Something went wrong\n",
      "The 'try except' is finished\n"
     ]
    }
   ],
   "source": [
    "try:\n",
    "  print(x)\n",
    "except:\n",
    "  print(\"Something went wrong\")\n",
    "finally:\n",
    "  print(\"The 'try except' is finished\")"
   ]
  },
  {
   "cell_type": "code",
   "execution_count": 9,
   "id": "8d3ca73f-d696-48d0-bd93-7eb8a9f5f4c6",
   "metadata": {},
   "outputs": [
    {
     "name": "stdout",
     "output_type": "stream",
     "text": [
      "Something went wrong when opening the file\n"
     ]
    }
   ],
   "source": [
    "try:\n",
    "  f = open(\"demofile.txt\")\n",
    "  try:\n",
    "    f.write(\"Lorum Ipsum\")\n",
    "  except:\n",
    "    print(\"Something went wrong when writing to the file\")\n",
    "  finally:\n",
    "    f.close()\n",
    "except:\n",
    "  print(\"Something went wrong when opening the file\")"
   ]
  },
  {
   "cell_type": "code",
   "execution_count": 12,
   "id": "db0b35b8-ac7c-4b4e-b5fe-58f1f1cbeacc",
   "metadata": {},
   "outputs": [
    {
     "ename": "TypeError",
     "evalue": "Only integers are allowed",
     "output_type": "error",
     "traceback": [
      "\u001b[1;31m---------------------------------------------------------------------------\u001b[0m",
      "\u001b[1;31mTypeError\u001b[0m                                 Traceback (most recent call last)",
      "Cell \u001b[1;32mIn[12], line 5\u001b[0m\n\u001b[0;32m      2\u001b[0m x \u001b[38;5;241m=\u001b[39m \u001b[38;5;124m\"\u001b[39m\u001b[38;5;124mhello\u001b[39m\u001b[38;5;124m\"\u001b[39m\n\u001b[0;32m      4\u001b[0m \u001b[38;5;28;01mif\u001b[39;00m \u001b[38;5;129;01mnot\u001b[39;00m \u001b[38;5;28mtype\u001b[39m(x) \u001b[38;5;129;01mis\u001b[39;00m \u001b[38;5;28mint\u001b[39m:\n\u001b[1;32m----> 5\u001b[0m   \u001b[38;5;28;01mraise\u001b[39;00m \u001b[38;5;167;01mTypeError\u001b[39;00m(\u001b[38;5;124m\"\u001b[39m\u001b[38;5;124mOnly integers are allowed\u001b[39m\u001b[38;5;124m\"\u001b[39m)\n",
      "\u001b[1;31mTypeError\u001b[0m: Only integers are allowed"
     ]
    }
   ],
   "source": [
    "# Raise an exception\n",
    "x = \"hello\"\n",
    "\n",
    "if not type(x) is int:\n",
    "  raise TypeError(\"Only integers are allowed\")"
   ]
  },
  {
   "cell_type": "code",
   "execution_count": 13,
   "id": "3d6c5b4b-5617-4cb0-af4b-112f5e6d956e",
   "metadata": {},
   "outputs": [
    {
     "name": "stdout",
     "output_type": "stream",
     "text": [
      "John(36)\n"
     ]
    }
   ],
   "source": [
    "class Person:\n",
    "  def __init__(self, name, age):\n",
    "    self.name = name\n",
    "    self.age = age\n",
    "\n",
    "  def __str__(self):\n",
    "    return f\"{self.name}({self.age})\"\n",
    "\n",
    "p1 = Person(\"John\", 36)\n",
    "\n",
    "print(p1)"
   ]
  },
  {
   "cell_type": "code",
   "execution_count": 14,
   "id": "f0e8d462-d053-4023-b487-21c30e48545b",
   "metadata": {},
   "outputs": [
    {
     "name": "stdout",
     "output_type": "stream",
     "text": [
      "Hello my name is John\n"
     ]
    }
   ],
   "source": [
    "class Person:\n",
    "  def __init__(self, name, age):\n",
    "    self.name = name\n",
    "    self.age = age\n",
    "\n",
    "  def myfunc(self):\n",
    "    print(\"Hello my name is \" + self.name)\n",
    "\n",
    "p1 = Person(\"John\", 36)\n",
    "p1.myfunc()"
   ]
  },
  {
   "cell_type": "markdown",
   "id": "e407f354-fa04-4262-af24-b824e61f3cb9",
   "metadata": {},
   "source": [
    " <!-- Working With Json -->"
   ]
  },
  {
   "cell_type": "raw",
   "id": "8ea87cd8-f2d8-4666-9c6d-1b6d1182cb72",
   "metadata": {},
   "source": [
    "# Working With Json"
   ]
  },
  {
   "cell_type": "code",
   "execution_count": 18,
   "id": "31000eca-28a9-4f74-8d7a-72575e29206c",
   "metadata": {},
   "outputs": [
    {
     "name": "stdout",
     "output_type": "stream",
     "text": [
      "{\"tom\": {\"name\": \"tom\", \"address\": 123456, \"phone\": 1233213}, \"bob\": {\"name\": \"bob\", \"address\": 7643346, \"phone\": 766575673}}\n"
     ]
    }
   ],
   "source": [
    "book={}\n",
    "book['tom']={'name': 'tom',\n",
    "          'address': 123456,\n",
    "          'phone':1233213}\n",
    "book['bob']={'name': 'bob',\n",
    "          'address': 7643346,\n",
    "          'phone':766575673}\n",
    "import json\n",
    "s=json.dumps(book)\n",
    "with open(r'C:\\Users\\User\\Documents\\Python_Hindi', 'w') as f:\n",
    "    f.write(s)\n",
    "with open(r'C:\\Users\\User\\Documents\\Python_Hindi', 'r') as f:\n",
    "    s = f.read()\n",
    "    print(s)"
   ]
  },
  {
   "cell_type": "code",
   "execution_count": 19,
   "id": "aa74a52b-547c-4a77-9581-a525c4df50fb",
   "metadata": {},
   "outputs": [
    {
     "data": {
      "text/plain": [
       "{'tom': {'name': 'tom', 'address': 123456, 'phone': 1233213},\n",
       " 'bob': {'name': 'bob', 'address': 7643346, 'phone': 766575673}}"
      ]
     },
     "execution_count": 19,
     "metadata": {},
     "output_type": "execute_result"
    }
   ],
   "source": [
    "import json\n",
    "y=json.loads(s)\n",
    "y"
   ]
  },
  {
   "cell_type": "code",
   "execution_count": 20,
   "id": "e9bd7773-76ce-491b-93d9-aed907f533a1",
   "metadata": {},
   "outputs": [
    {
     "data": {
      "text/plain": [
       "dict"
      ]
     },
     "execution_count": 20,
     "metadata": {},
     "output_type": "execute_result"
    }
   ],
   "source": [
    "type(y)"
   ]
  },
  {
   "cell_type": "code",
   "execution_count": 21,
   "id": "359b1516-0a69-4cbf-a8d8-c361f2c6c5b0",
   "metadata": {},
   "outputs": [
    {
     "data": {
      "text/plain": [
       "{'name': 'bob', 'address': 7643346, 'phone': 766575673}"
      ]
     },
     "execution_count": 21,
     "metadata": {},
     "output_type": "execute_result"
    }
   ],
   "source": [
    "book['bob']"
   ]
  },
  {
   "cell_type": "code",
   "execution_count": 22,
   "id": "e37c5539-0885-48cb-b740-6a17efe8d15d",
   "metadata": {},
   "outputs": [
    {
     "data": {
      "text/plain": [
       "766575673"
      ]
     },
     "execution_count": 22,
     "metadata": {},
     "output_type": "execute_result"
    }
   ],
   "source": [
    "book['bob']['phone']"
   ]
  },
  {
   "cell_type": "code",
   "execution_count": 23,
   "id": "19ff090f-7802-4868-a9cf-f841923a2f8e",
   "metadata": {},
   "outputs": [
    {
     "data": {
      "text/plain": [
       "'tom'"
      ]
     },
     "execution_count": 23,
     "metadata": {},
     "output_type": "execute_result"
    }
   ],
   "source": [
    "book['tom']['name']"
   ]
  },
  {
   "cell_type": "code",
   "execution_count": 25,
   "id": "9624d2ff-d602-48c8-95cb-d203733504f1",
   "metadata": {},
   "outputs": [
    {
     "name": "stdout",
     "output_type": "stream",
     "text": [
      "{'name': 'tom', 'address': 123456, 'phone': 1233213}\n",
      "{'name': 'bob', 'address': 7643346, 'phone': 766575673}\n"
     ]
    }
   ],
   "source": [
    "for i in book:\n",
    "    print(book[i])"
   ]
  },
  {
   "cell_type": "markdown",
   "id": "cd9e4c82-3746-4074-879d-7044199f19d2",
   "metadata": {},
   "source": [
    "# Exception Handling...."
   ]
  },
  {
   "cell_type": "markdown",
   "id": "00aac73b-741e-4cf4-b2cf-8f5994fb3d66",
   "metadata": {},
   "source": [
    "# The try block lets you test a block of code for errors.\n",
    "\n",
    "# The except block lets you handle the error.\n",
    "\n",
    "# The else block lets you execute code when there is no error.\n",
    "\n",
    "# The finally block lets you execute code, regardless of the result of the try- and except blocks."
   ]
  },
  {
   "cell_type": "code",
   "execution_count": null,
   "id": "4cdf7f66-ff61-47e0-a873-a3677d993b01",
   "metadata": {},
   "outputs": [],
   "source": []
  },
  {
   "cell_type": "code",
   "execution_count": 5,
   "id": "7a578cc3-e28b-467f-b210-83f494a60845",
   "metadata": {},
   "outputs": [
    {
     "name": "stdin",
     "output_type": "stream",
     "text": [
      "enter first no 1\n",
      "enter second no 0\n"
     ]
    },
    {
     "name": "stdout",
     "output_type": "stream",
     "text": [
      "exception is occur which is ZeroDivisonError\n",
      "result is : None\n"
     ]
    }
   ],
   "source": [
    "a=input(\"enter first no\")\n",
    "b=input(\"enter second no\")\n",
    "try:\n",
    "    s=int(a)/int(b)\n",
    "except ZeroDivisionError as e:\n",
    "    print(\"exception is occur which is ZeroDivisonError\")\n",
    "    s=None\n",
    "except ValueError as e:\n",
    "    print(\"exception is occur which is TypeError\")\n",
    "    s=None\n",
    "\n",
    "print(\"result is :\", s)"
   ]
  },
  {
   "cell_type": "markdown",
   "id": "747633b0-cbed-4c2d-8534-4ccced655eda",
   "metadata": {},
   "source": [
    "# else, finally"
   ]
  },
  {
   "cell_type": "code",
   "execution_count": 9,
   "id": "67e80074-a3c1-4567-ab4f-b3f98ff22254",
   "metadata": {},
   "outputs": [
    {
     "name": "stdin",
     "output_type": "stream",
     "text": [
      "Enter first number:  2\n",
      "Enter second number:  e\n"
     ]
    },
    {
     "name": "stdout",
     "output_type": "stream",
     "text": [
      "Exception occurred: ValueError (invalid literal for int conversion)\n",
      "Execution completed.\n",
      "Result is: None\n"
     ]
    }
   ],
   "source": [
    "a = input(\"Enter first number: \")\n",
    "b = input(\"Enter second number: \")\n",
    "try:\n",
    "    s = int(a) / int(b)\n",
    "except ZeroDivisionError as e:\n",
    "    print(\"Exception occurred: ZeroDivisionError\")\n",
    "    s = None\n",
    "except ValueError as e:\n",
    "    print(\"Exception occurred: ValueError (invalid literal for int conversion)\")\n",
    "    s = None\n",
    "else:\n",
    "    # This will run only if no exception occurs\n",
    "    print(\"Division successful!\")\n",
    "finally:\n",
    "    # This will run no matter what (useful for cleanup)\n",
    "    print(\"Execution completed.\")\n",
    "\n",
    "print(\"Result is:\", s)"
   ]
  },
  {
   "cell_type": "markdown",
   "id": "a8300fdd-66f5-4911-ac71-0732491c5b5e",
   "metadata": {},
   "source": [
    "# Class"
   ]
  },
  {
   "cell_type": "code",
   "execution_count": 14,
   "id": "079eb5e0-e717-40e4-9170-8b2240101921",
   "metadata": {},
   "outputs": [
    {
     "name": "stdout",
     "output_type": "stream",
     "text": [
      "tom crouse plays film\n",
      "tom crouse says how are you\n",
      "maria sara plays tennis\n",
      "maria sara says how are you\n"
     ]
    }
   ],
   "source": [
    "class Human:\n",
    "    def __init__(self, n, o):\n",
    "        self.name= n\n",
    "        self.occupation=o\n",
    "    def do_work(self):\n",
    "        if self.occupation == 'actor':\n",
    "            print(self.name, \"plays film\")\n",
    "        elif self.occupation =='tennis':\n",
    "            print(self.name, \"plays tennis\")\n",
    "    def do_speak(self):\n",
    "        print(self.name, \"says how are you\")\n",
    "tom=Human('tom crouse', 'actor')\n",
    "tom.do_work()\n",
    "tom.do_speak()\n",
    "tom=Human('maria sara', 'tennis')\n",
    "tom.do_work()\n",
    "tom.do_speak()\n"
   ]
  },
  {
   "cell_type": "markdown",
   "id": "a56b41c7-3ed9-4c1f-ade8-cbfc1657cf35",
   "metadata": {},
   "source": [
    "# Inheritance..."
   ]
  },
  {
   "cell_type": "code",
   "execution_count": 22,
   "id": "69473c33-60b3-4efb-8ffc-cfe4ddaa29b3",
   "metadata": {},
   "outputs": [
    {
     "name": "stdout",
     "output_type": "stream",
     "text": [
      "I a'm a car\n",
      "Specific Usage: commute to work, vacation with family\n",
      "General Use: Transportation\n",
      "I a'm a bike\n",
      "Specific Usage: commute to work\n",
      "General Use: Transportation\n"
     ]
    }
   ],
   "source": [
    "class Vehicle:\n",
    "    def general_usage(self):\n",
    "        print(\"General Use: Transportation\")\n",
    "class car(Vehicle):\n",
    "    def __init__(self):\n",
    "        print(\"I a'm a car\")\n",
    "        self.wheels=4\n",
    "        self.has_roof=True\n",
    "    def specific_usage(self):\n",
    "        print(\"Specific Usage: commute to work, vacation with family\")\n",
    "class bike(Vehicle):\n",
    "    def __init__(self):\n",
    "        print(\"I a'm a bike\")\n",
    "        self.wheels=2\n",
    "        self.has_roof=False\n",
    "    def specific_usage(self):\n",
    "        print(\"Specific Usage: commute to work\")\n",
    "Car=car()\n",
    "Car.specific_usage()\n",
    "Car.general_usage()\n",
    "Bike=bike()\n",
    "Bike.specific_usage()\n",
    "Bike.general_usage()"
   ]
  },
  {
   "cell_type": "markdown",
   "id": "2e064f6c-6b5a-459d-b837-720cbdfae3a8",
   "metadata": {},
   "source": [
    "# multiple inheritance"
   ]
  },
  {
   "cell_type": "code",
   "execution_count": 25,
   "id": "3342f458-e2cc-4954-99ed-4b2cd19db8fb",
   "metadata": {},
   "outputs": [
    {
     "name": "stdout",
     "output_type": "stream",
     "text": [
      "I enjoy sports\n",
      "I enjoy gardening\n",
      "I enjoy cooking\n"
     ]
    }
   ],
   "source": [
    "class father:\n",
    "    def gardening():\n",
    "        print(\"I enjoy gardening\")\n",
    "class mother:\n",
    "    def cooking():\n",
    "        print(\"I enjoy cooking\")\n",
    "class child(father, mother):\n",
    "    def sports():\n",
    "        print(\"I enjoy sports\")\n",
    "Child=child\n",
    "Child.sports()\n",
    "Child.gardening()\n",
    "Child.cooking()"
   ]
  },
  {
   "cell_type": "markdown",
   "id": "1bcef3d1-e1ce-4f36-a6e4-a9a594e4c099",
   "metadata": {},
   "source": [
    "# multiple inheritance function overriding"
   ]
  },
  {
   "cell_type": "code",
   "execution_count": null,
   "id": "407fed7e-99dc-4169-96e0-bb176fadbd45",
   "metadata": {},
   "outputs": [],
   "source": []
  },
  {
   "cell_type": "code",
   "execution_count": 33,
   "id": "0eeca36f-032b-409d-99ac-21a5a0aba7ea",
   "metadata": {},
   "outputs": [
    {
     "name": "stdout",
     "output_type": "stream",
     "text": [
      "I enjoy gardening\n",
      "I enjoy cooking\n",
      "I enjoy sports\n"
     ]
    }
   ],
   "source": [
    "class father:\n",
    "    def skills(self):\n",
    "        print(\"I enjoy gardening\")\n",
    "        \n",
    "class mother:\n",
    "    def skills(self):\n",
    "        print(\"I enjoy cooking\")\n",
    "        \n",
    "class child(father, mother):\n",
    "    def skills(self):\n",
    "        father.skills(self)\n",
    "        mother.skills(self)\n",
    "        print(\"I enjoy sports\")\n",
    "        \n",
    "Child=child()\n",
    "Child.skills()\n"
   ]
  },
  {
   "cell_type": "code",
   "execution_count": 31,
   "id": "fd986bd6-03e8-43af-912d-502e88d6d4a4",
   "metadata": {},
   "outputs": [
    {
     "name": "stdout",
     "output_type": "stream",
     "text": [
      "I enjoy gardening\n",
      "I enjoy cooking\n",
      "I enjoy sports\n"
     ]
    }
   ],
   "source": [
    "class Father:\n",
    "    def skills(self):\n",
    "        print(\"I enjoy gardening\")\n",
    "\n",
    "class Mother:\n",
    "    def skills(self):\n",
    "        print(\"I enjoy cooking\")\n",
    "\n",
    "class Child(Father, Mother):\n",
    "    def skills(self):\n",
    "        Father.skills(self)\n",
    "        Mother.skills(self)\n",
    "        print(\"I enjoy sports\")\n",
    "\n",
    "# Create an instance of the Child class\n",
    "child_instance = Child()\n",
    "\n",
    "# Call the skills method on the instance\n",
    "child_instance.skills()\n"
   ]
  },
  {
   "cell_type": "markdown",
   "id": "d4c79c4a-9e4d-4a47-8c5c-f5d199c87370",
   "metadata": {},
   "source": [
    "# Standard Exception"
   ]
  },
  {
   "cell_type": "code",
   "execution_count": 1,
   "id": "1d61f29d-0df3-4125-a36e-916fa28fb6df",
   "metadata": {},
   "outputs": [
    {
     "name": "stdout",
     "output_type": "stream",
     "text": [
      "MemoryError\n"
     ]
    }
   ],
   "source": [
    "try:\n",
    "    raise MemoryError (\"MemoryError\")\n",
    "except MemoryError as e:\n",
    "    print(e)"
   ]
  },
  {
   "cell_type": "markdown",
   "id": "3a3632f2-7ac8-4aeb-bf99-7b02826c4f83",
   "metadata": {},
   "source": [
    "# User Define Exception"
   ]
  },
  {
   "cell_type": "code",
   "execution_count": 5,
   "id": "ebe004c5-f03a-46ca-b47f-e44c0a68051b",
   "metadata": {},
   "outputs": [
    {
     "name": "stdout",
     "output_type": "stream",
     "text": [
      "Accident Occurs when I was drive crash between two cars\n"
     ]
    }
   ],
   "source": [
    "class Accident(Exception):\n",
    "    def __init__(self, msg):\n",
    "        self.msg = msg\n",
    "    def handle(self):\n",
    "        print(\"Accident Occurs when I was drive\", self.msg)\n",
    "\n",
    "try:\n",
    "    raise Accident (\"crash between two cars\")\n",
    "except Accident as e:\n",
    "    e.handle()"
   ]
  },
  {
   "cell_type": "markdown",
   "id": "6d387b9c-8c18-478c-9577-9f76a9f752a1",
   "metadata": {},
   "source": [
    "# Iterator and it's implementation using  class"
   ]
  },
  {
   "cell_type": "code",
   "execution_count": 6,
   "id": "afc05c08-cc0a-4cf5-aaea-43b82e52be5a",
   "metadata": {},
   "outputs": [
    {
     "name": "stdout",
     "output_type": "stream",
     "text": [
      "qqq\n",
      "you'y\n",
      "c\n",
      "o\n",
      "p\n"
     ]
    }
   ],
   "source": [
    "a=[\"qqq\", \"you'y\", \"c\", \"o\",\"p\"]\n",
    "for i in a:\n",
    "    print(i)"
   ]
  },
  {
   "cell_type": "code",
   "execution_count": 7,
   "id": "6a400640-6558-4d9f-8847-0a53c5bb3256",
   "metadata": {},
   "outputs": [
    {
     "data": {
      "text/plain": [
       "['__class__',\n",
       " '__delattr__',\n",
       " '__dir__',\n",
       " '__doc__',\n",
       " '__eq__',\n",
       " '__format__',\n",
       " '__ge__',\n",
       " '__getattribute__',\n",
       " '__getstate__',\n",
       " '__gt__',\n",
       " '__hash__',\n",
       " '__init__',\n",
       " '__init_subclass__',\n",
       " '__iter__',\n",
       " '__le__',\n",
       " '__length_hint__',\n",
       " '__lt__',\n",
       " '__ne__',\n",
       " '__new__',\n",
       " '__next__',\n",
       " '__reduce__',\n",
       " '__reduce_ex__',\n",
       " '__repr__',\n",
       " '__setattr__',\n",
       " '__setstate__',\n",
       " '__sizeof__',\n",
       " '__str__',\n",
       " '__subclasshook__']"
      ]
     },
     "execution_count": 7,
     "metadata": {},
     "output_type": "execute_result"
    }
   ],
   "source": [
    "itr=iter(a)\n",
    "dir(itr)"
   ]
  },
  {
   "cell_type": "code",
   "execution_count": 8,
   "id": "46b1570e-c151-4a82-b7b7-115e3f0b2239",
   "metadata": {},
   "outputs": [
    {
     "data": {
      "text/plain": [
       "'qqq'"
      ]
     },
     "execution_count": 8,
     "metadata": {},
     "output_type": "execute_result"
    }
   ],
   "source": [
    "next(itr)"
   ]
  },
  {
   "cell_type": "code",
   "execution_count": 9,
   "id": "bf552d3a-0149-4a13-adc7-287535a5d8fe",
   "metadata": {},
   "outputs": [
    {
     "data": {
      "text/plain": [
       "\"you'y\""
      ]
     },
     "execution_count": 9,
     "metadata": {},
     "output_type": "execute_result"
    }
   ],
   "source": [
    "next(itr)"
   ]
  },
  {
   "cell_type": "code",
   "execution_count": 10,
   "id": "3c2aad32-976e-4361-b83a-d876dc1e7de8",
   "metadata": {},
   "outputs": [
    {
     "data": {
      "text/plain": [
       "'c'"
      ]
     },
     "execution_count": 10,
     "metadata": {},
     "output_type": "execute_result"
    }
   ],
   "source": [
    "next(itr)"
   ]
  },
  {
   "cell_type": "code",
   "execution_count": 11,
   "id": "a09b43c7-93e5-4176-b513-93dbd4da0e4e",
   "metadata": {},
   "outputs": [
    {
     "data": {
      "text/plain": [
       "'o'"
      ]
     },
     "execution_count": 11,
     "metadata": {},
     "output_type": "execute_result"
    }
   ],
   "source": [
    "next(itr)"
   ]
  },
  {
   "cell_type": "code",
   "execution_count": 12,
   "id": "cd7a741f-8eff-467c-af36-cc334a91a1a6",
   "metadata": {},
   "outputs": [
    {
     "data": {
      "text/plain": [
       "'p'"
      ]
     },
     "execution_count": 12,
     "metadata": {},
     "output_type": "execute_result"
    }
   ],
   "source": [
    "next(itr)"
   ]
  },
  {
   "cell_type": "markdown",
   "id": "4261a8f9-fd6d-46ae-a055-14aed8719683",
   "metadata": {},
   "source": [
    "# List, Set, Dictionery Comprehension"
   ]
  },
  {
   "cell_type": "code",
   "execution_count": 1,
   "id": "c90b3591-dacf-46fe-9e83-9ea6dfaff30a",
   "metadata": {},
   "outputs": [],
   "source": [
    "nomber=[1,2,3,4,5,6,7]\n",
    "even=[]\n",
    "for i in nomber:\n",
    "    if i%2 ==0:\n",
    "        even.append(i)"
   ]
  },
  {
   "cell_type": "code",
   "execution_count": 2,
   "id": "9ff4b719-d666-4526-ac7a-7f4a4a030f22",
   "metadata": {},
   "outputs": [
    {
     "data": {
      "text/plain": [
       "[2, 4, 6]"
      ]
     },
     "execution_count": 2,
     "metadata": {},
     "output_type": "execute_result"
    }
   ],
   "source": [
    "even"
   ]
  },
  {
   "cell_type": "markdown",
   "id": "bf8bffa4-f530-42f4-bb85-e7c4d66086ab",
   "metadata": {},
   "source": [
    "# Dictionery Comprehenion"
   ]
  },
  {
   "cell_type": "code",
   "execution_count": 4,
   "id": "a735b4ef-5154-4de7-90ac-a81ddfbb5aab",
   "metadata": {},
   "outputs": [
    {
     "data": {
      "text/plain": [
       "<zip at 0x1c2b3054f00>"
      ]
     },
     "execution_count": 4,
     "metadata": {},
     "output_type": "execute_result"
    }
   ],
   "source": [
    "cities=[\"mumbai\", \"New York\", \"Islamabad\"]\n",
    "countries=[\"India\", \"USA\", \"Pakistan\"]\n",
    "z=zip(cities, countries)\n",
    "z"
   ]
  },
  {
   "cell_type": "code",
   "execution_count": 5,
   "id": "013908e1-8b92-42d8-8ec8-0a202cff47bb",
   "metadata": {},
   "outputs": [
    {
     "name": "stdout",
     "output_type": "stream",
     "text": [
      "('mumbai', 'India')\n",
      "('New York', 'USA')\n",
      "('Islamabad', 'Pakistan')\n"
     ]
    }
   ],
   "source": [
    "for i in z:\n",
    "    print(i)"
   ]
  },
  {
   "cell_type": "code",
   "execution_count": 14,
   "id": "3b0bda9b-b632-4b7a-b26c-a5c3b37ec453",
   "metadata": {},
   "outputs": [
    {
     "name": "stdout",
     "output_type": "stream",
     "text": [
      "{'mumbai': 'India', 'New York': 'USA', 'Islamabad': 'Pakistan'}\n"
     ]
    }
   ],
   "source": [
    "# dic={cities:countries for cities, countries in zip(cities, countries)}\n",
    "cities=[\"mumbai\", \"New York\", \"Islamabad\"]\n",
    "countries=[\"India\", \"USA\", \"Pakistan\"]\n",
    "dic = {city: country for city, country in zip(cities, countries)}\n",
    "print(dic)"
   ]
  },
  {
   "cell_type": "code",
   "execution_count": 17,
   "id": "2122246e-f0ed-4135-b97c-343688e8754b",
   "metadata": {},
   "outputs": [
    {
     "name": "stdout",
     "output_type": "stream",
     "text": [
      "{'mumbai': 'India', 'New York': 'USA', 'Islamabad': 'Pakistan'}\n"
     ]
    }
   ],
   "source": [
    "cities=[\"mumbai\", \"New York\", \"Islamabad\"]\n",
    "countries=[\"India\", \"USA\", \"Pakistan\"]\n",
    "dicto = dict(zip(cities, countries))\n",
    "print(dicto)"
   ]
  },
  {
   "cell_type": "markdown",
   "id": "4989d2b7-f615-4b1b-ae56-6bf17aed004e",
   "metadata": {},
   "source": [
    "# Sets and Frozen Sets in Python"
   ]
  },
  {
   "cell_type": "markdown",
   "id": "a9afb90b-363c-49dc-8819-6d366718f808",
   "metadata": {},
   "source": [
    "# sets is a unorder collection of unique elements."
   ]
  },
  {
   "cell_type": "code",
   "execution_count": 19,
   "id": "60427895-dffc-49c6-8ef2-bf4b00d1c57a",
   "metadata": {},
   "outputs": [
    {
     "data": {
      "text/plain": [
       "{'bananas', 'mango', 'orange'}"
      ]
     },
     "execution_count": 19,
     "metadata": {},
     "output_type": "execute_result"
    }
   ],
   "source": [
    "xip={\"orange\", \"orange\", \"bananas\", \"bananas\", \"mango\", \"mango\"}\n",
    "xip"
   ]
  },
  {
   "cell_type": "code",
   "execution_count": 20,
   "id": "76e2cc09-a540-45ef-ae07-2651c478936b",
   "metadata": {},
   "outputs": [],
   "source": [
    "a=set()"
   ]
  },
  {
   "cell_type": "code",
   "execution_count": 26,
   "id": "397b8e44-e12a-4501-bc13-68d1dee58c13",
   "metadata": {},
   "outputs": [],
   "source": [
    "a.add(1)\n",
    "a.add(2)"
   ]
  },
  {
   "cell_type": "code",
   "execution_count": null,
   "id": "a13af384-94c8-4e76-a041-de38e4dcb133",
   "metadata": {},
   "outputs": [],
   "source": []
  },
  {
   "cell_type": "code",
   "execution_count": 27,
   "id": "f7c0c7cd-56ab-4114-b4b5-6449e70286cd",
   "metadata": {},
   "outputs": [
    {
     "data": {
      "text/plain": [
       "{1, 2}"
      ]
     },
     "execution_count": 27,
     "metadata": {},
     "output_type": "execute_result"
    }
   ],
   "source": [
    "a"
   ]
  },
  {
   "cell_type": "code",
   "execution_count": 30,
   "id": "4f9daade-15e9-4b26-a82f-1d292a8390d3",
   "metadata": {},
   "outputs": [],
   "source": [
    "d={}\n",
    "# d.add(2,45)"
   ]
  },
  {
   "cell_type": "code",
   "execution_count": 31,
   "id": "5fb2a8cf-f6a1-4f15-837b-e1dcc09c9ead",
   "metadata": {},
   "outputs": [
    {
     "data": {
      "text/plain": [
       "{}"
      ]
     },
     "execution_count": 31,
     "metadata": {},
     "output_type": "execute_result"
    }
   ],
   "source": [
    "d"
   ]
  },
  {
   "cell_type": "code",
   "execution_count": 32,
   "id": "815e7bad-6d80-42e2-b557-40eb25df2300",
   "metadata": {},
   "outputs": [
    {
     "data": {
      "text/plain": [
       "dict"
      ]
     },
     "execution_count": 32,
     "metadata": {},
     "output_type": "execute_result"
    }
   ],
   "source": [
    "type(d)"
   ]
  },
  {
   "cell_type": "code",
   "execution_count": 33,
   "id": "2bd7be53-7045-417e-8930-1e4d226a3fef",
   "metadata": {},
   "outputs": [],
   "source": [
    "d={\"hi something went wrong\"},"
   ]
  },
  {
   "cell_type": "code",
   "execution_count": 34,
   "id": "dbc93e7e-81a6-41bb-806d-a1e4260452bc",
   "metadata": {},
   "outputs": [
    {
     "data": {
      "text/plain": [
       "{'hi something went wrong'}"
      ]
     },
     "execution_count": 34,
     "metadata": {},
     "output_type": "execute_result"
    }
   ],
   "source": [
    "d"
   ]
  },
  {
   "cell_type": "code",
   "execution_count": 35,
   "id": "0a0f8e39-aacf-46dd-b19c-a5b5bbceeb51",
   "metadata": {},
   "outputs": [
    {
     "data": {
      "text/plain": [
       "{1, 2, 3, 4, 5, 6, 7, 8}"
      ]
     },
     "execution_count": 35,
     "metadata": {},
     "output_type": "execute_result"
    }
   ],
   "source": [
    "no=[1, 2,3,4,5,6,7]\n",
    "modify_set=set(no)\n",
    "modify_set.add(8)\n",
    "modify_set"
   ]
  },
  {
   "cell_type": "markdown",
   "id": "23fbd2a2-8a2a-4812-921a-43531b170ab3",
   "metadata": {},
   "source": [
    "# Frozen Set"
   ]
  },
  {
   "cell_type": "markdown",
   "id": "007c2923-c686-46de-a13b-0212b11e1b7c",
   "metadata": {},
   "source": [
    "# A set thats content not changeable as normally change"
   ]
  },
  {
   "cell_type": "code",
   "execution_count": 37,
   "id": "86f91624-2c67-4f3b-a510-9c752751ca07",
   "metadata": {},
   "outputs": [
    {
     "data": {
      "text/plain": [
       "frozenset({1, 2, 3, 4, 5, 6, 7, 8})"
      ]
     },
     "execution_count": 37,
     "metadata": {},
     "output_type": "execute_result"
    }
   ],
   "source": [
    "nom=frozenset(modify_set)\n",
    "nom"
   ]
  },
  {
   "cell_type": "code",
   "execution_count": 38,
   "id": "572b0ae5-2a95-4440-8d0b-cc96a93552a2",
   "metadata": {},
   "outputs": [
    {
     "ename": "AttributeError",
     "evalue": "'frozenset' object has no attribute 'add'",
     "output_type": "error",
     "traceback": [
      "\u001b[1;31m---------------------------------------------------------------------------\u001b[0m",
      "\u001b[1;31mAttributeError\u001b[0m                            Traceback (most recent call last)",
      "Cell \u001b[1;32mIn[38], line 1\u001b[0m\n\u001b[1;32m----> 1\u001b[0m \u001b[43mnom\u001b[49m\u001b[38;5;241;43m.\u001b[39;49m\u001b[43madd\u001b[49m(\u001b[38;5;241m9\u001b[39m)\n",
      "\u001b[1;31mAttributeError\u001b[0m: 'frozenset' object has no attribute 'add'"
     ]
    }
   ],
   "source": [
    "nom.add(9)"
   ]
  },
  {
   "cell_type": "code",
   "execution_count": 47,
   "id": "fa5444c5-f2a0-4a68-be27-8462ed0a46ae",
   "metadata": {},
   "outputs": [],
   "source": [
    "x={'a', 'b', 'c', 'd'}\n",
    "y={'g', 'h', 'i', 'j', 'c'}"
   ]
  },
  {
   "cell_type": "code",
   "execution_count": null,
   "id": "cc8f4e72-540d-4689-bb58-1b746201563a",
   "metadata": {},
   "outputs": [],
   "source": []
  },
  {
   "cell_type": "code",
   "execution_count": null,
   "id": "2b88cdea-6fd1-4619-87f2-500e1c59d657",
   "metadata": {},
   "outputs": [],
   "source": []
  },
  {
   "cell_type": "code",
   "execution_count": 45,
   "id": "546b276f-9293-49bd-9eb1-a4e5925acf88",
   "metadata": {},
   "outputs": [
    {
     "data": {
      "text/plain": [
       "{'a', 'b', 'c', 'd', 'g', 'h', 'i', 'j'}"
      ]
     },
     "execution_count": 45,
     "metadata": {},
     "output_type": "execute_result"
    }
   ],
   "source": [
    "x|y"
   ]
  },
  {
   "cell_type": "code",
   "execution_count": 48,
   "id": "7fcc995a-f58e-4324-a451-feab90a537d6",
   "metadata": {},
   "outputs": [
    {
     "data": {
      "text/plain": [
       "{'c'}"
      ]
     },
     "execution_count": 48,
     "metadata": {},
     "output_type": "execute_result"
    }
   ],
   "source": [
    "x&y"
   ]
  },
  {
   "cell_type": "code",
   "execution_count": 49,
   "id": "84870133-076a-49ab-8bb3-133b807f9534",
   "metadata": {},
   "outputs": [
    {
     "data": {
      "text/plain": [
       "False"
      ]
     },
     "execution_count": 49,
     "metadata": {},
     "output_type": "execute_result"
    }
   ],
   "source": [
    "x>y"
   ]
  },
  {
   "cell_type": "code",
   "execution_count": 50,
   "id": "c890a570-871e-4713-9e4c-8b4815c11667",
   "metadata": {},
   "outputs": [
    {
     "data": {
      "text/plain": [
       "False"
      ]
     },
     "execution_count": 50,
     "metadata": {},
     "output_type": "execute_result"
    }
   ],
   "source": [
    "x<y"
   ]
  },
  {
   "cell_type": "code",
   "execution_count": 51,
   "id": "902240ba-940c-45bb-82e9-1fb267777123",
   "metadata": {},
   "outputs": [
    {
     "data": {
      "text/plain": [
       "True"
      ]
     },
     "execution_count": 51,
     "metadata": {},
     "output_type": "execute_result"
    }
   ],
   "source": [
    "'a' in x"
   ]
  },
  {
   "cell_type": "code",
   "execution_count": null,
   "id": "feafe8a2-0ccc-47da-92ec-8104314ea1d9",
   "metadata": {},
   "outputs": [],
   "source": []
  },
  {
   "cell_type": "code",
   "execution_count": null,
   "id": "ea237bac-20e5-48fe-9132-a314b166dec1",
   "metadata": {},
   "outputs": [],
   "source": []
  },
  {
   "cell_type": "code",
   "execution_count": null,
   "id": "ce7ee7de-3ffe-4668-a6da-f0aecfb460f3",
   "metadata": {},
   "outputs": [],
   "source": []
  },
  {
   "cell_type": "code",
   "execution_count": null,
   "id": "a6dc9ca5-fba1-41ac-bc00-208493cf41cc",
   "metadata": {},
   "outputs": [],
   "source": []
  },
  {
   "cell_type": "code",
   "execution_count": null,
   "id": "70ea6d3c-50ad-4e7e-9c39-4a5b8cfd0e12",
   "metadata": {},
   "outputs": [],
   "source": []
  },
  {
   "cell_type": "code",
   "execution_count": null,
   "id": "fe8e3956-ce1b-441d-bf4a-03ac1f2074d6",
   "metadata": {},
   "outputs": [],
   "source": []
  },
  {
   "cell_type": "code",
   "execution_count": null,
   "id": "bb57042e-2fe8-4cfe-8eb7-eb7f2b73aefe",
   "metadata": {},
   "outputs": [],
   "source": []
  },
  {
   "cell_type": "code",
   "execution_count": null,
   "id": "e332bc15-9df0-47d6-b667-ab6a8d4e4869",
   "metadata": {},
   "outputs": [],
   "source": []
  },
  {
   "cell_type": "code",
   "execution_count": null,
   "id": "a7060f12-d402-456e-bc08-2276e0616e27",
   "metadata": {},
   "outputs": [],
   "source": []
  },
  {
   "cell_type": "code",
   "execution_count": null,
   "id": "a4a3fb4e-c619-4f77-99a7-4b00af1db3bc",
   "metadata": {},
   "outputs": [],
   "source": []
  },
  {
   "cell_type": "code",
   "execution_count": null,
   "id": "ecdcf22f-3981-4271-ac5b-625942ddbfef",
   "metadata": {},
   "outputs": [],
   "source": []
  },
  {
   "cell_type": "code",
   "execution_count": null,
   "id": "e3c89847-886d-48bd-871c-ee405d9665c3",
   "metadata": {},
   "outputs": [],
   "source": []
  },
  {
   "cell_type": "code",
   "execution_count": null,
   "id": "42b8665f-1cff-4302-8dda-9311d0358a7d",
   "metadata": {},
   "outputs": [],
   "source": []
  },
  {
   "cell_type": "code",
   "execution_count": null,
   "id": "769b45b3-d2c9-4c53-a9b2-84f085411bfb",
   "metadata": {},
   "outputs": [],
   "source": []
  },
  {
   "cell_type": "code",
   "execution_count": null,
   "id": "c2133481-be15-4770-8f43-f45b2f75a265",
   "metadata": {},
   "outputs": [],
   "source": []
  },
  {
   "cell_type": "code",
   "execution_count": null,
   "id": "190e02fd-1b8c-4505-9fff-9cb947438ca7",
   "metadata": {},
   "outputs": [],
   "source": []
  },
  {
   "cell_type": "code",
   "execution_count": null,
   "id": "a7f07e5f-5c59-4d09-b313-4d8ed8d00f9c",
   "metadata": {},
   "outputs": [],
   "source": []
  },
  {
   "cell_type": "code",
   "execution_count": null,
   "id": "a8d1b5ac-e80d-435f-bad9-392a84fa286c",
   "metadata": {},
   "outputs": [],
   "source": []
  },
  {
   "cell_type": "code",
   "execution_count": null,
   "id": "a9e9f91d-aa8e-44b0-8590-abdbd8c07ce9",
   "metadata": {},
   "outputs": [],
   "source": []
  },
  {
   "cell_type": "code",
   "execution_count": null,
   "id": "ecb4e0c4-14db-4080-88ca-9d9a740e182a",
   "metadata": {},
   "outputs": [],
   "source": []
  }
 ],
 "metadata": {
  "kernelspec": {
   "display_name": "Python 3 (ipykernel)",
   "language": "python",
   "name": "python3"
  },
  "language_info": {
   "codemirror_mode": {
    "name": "ipython",
    "version": 3
   },
   "file_extension": ".py",
   "mimetype": "text/x-python",
   "name": "python",
   "nbconvert_exporter": "python",
   "pygments_lexer": "ipython3",
   "version": "3.12.5"
  }
 },
 "nbformat": 4,
 "nbformat_minor": 5
}
